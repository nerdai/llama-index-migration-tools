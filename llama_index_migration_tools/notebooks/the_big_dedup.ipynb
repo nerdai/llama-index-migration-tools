{
 "cells": [
  {
   "cell_type": "markdown",
   "id": "2770970d-0a95-4f34-81a8-fa4c18d6e439",
   "metadata": {},
   "source": [
    "# DeDuping readers/loaders between llama-index and llama-hub"
   ]
  },
  {
   "cell_type": "code",
   "execution_count": 1,
   "id": "d0ba2c1f-0441-45fd-be1e-e8ae57e7ce0f",
   "metadata": {},
   "outputs": [],
   "source": [
    "class cd:\n",
    "    \"\"\"Context manager for changing the current working directory\"\"\"\n",
    "    def __init__(self, newPath):\n",
    "        self.newPath = os.path.expanduser(newPath)\n",
    "\n",
    "    def __enter__(self):\n",
    "        self.savedPath = os.getcwd()\n",
    "        os.chdir(self.newPath)\n",
    "\n",
    "    def __exit__(self, etype, value, traceback):\n",
    "        os.chdir(self.savedPath)"
   ]
  },
  {
   "cell_type": "code",
   "execution_count": 2,
   "id": "e39e2698-4ec8-4128-96e9-6370f466f759",
   "metadata": {},
   "outputs": [],
   "source": [
    "IGNORE_LIST = [\n",
    "    \"__init__.py\",\n",
    "    \"__pycache__\",\n",
    "    \"loading.py\",\n",
    "    \"base.py\",\n",
    "    \"README.md\"\n",
    "]"
   ]
  },
  {
   "cell_type": "code",
   "execution_count": 3,
   "id": "e8ddce69-69ee-42d0-832c-44702919e28b",
   "metadata": {},
   "outputs": [],
   "source": [
    "import os\n",
    "from pathlib import Path\n",
    "import shutil\n",
    "from os import listdir\n",
    "from os.path import isfile, join"
   ]
  },
  {
   "cell_type": "code",
   "execution_count": 4,
   "id": "f826a1fb-3479-4326-9995-adf7908b34f1",
   "metadata": {},
   "outputs": [],
   "source": [
    "llama_index_path = f\"/Users/nerdai/Projects/forks/llama_index/llama-index-legacy/llama_index/legacy/readers\"\n",
    "llama_index = [el for el in listdir(llama_index_path) if el not in IGNORE_LIST]\n",
    "llama_index = sorted(llama_index)"
   ]
  },
  {
   "cell_type": "code",
   "execution_count": 5,
   "id": "610e6b99-ba92-4914-a440-cace34782101",
   "metadata": {},
   "outputs": [],
   "source": [
    "llama_hub_path = f\"/Users/nerdai/Projects/llama-hub/llama_hub/\"\n",
    "llama_hub = [el for el in listdir(llama_hub_path) if el not in IGNORE_LIST]\n",
    "llama_hub = sorted(llama_hub)"
   ]
  },
  {
   "cell_type": "code",
   "execution_count": 6,
   "id": "7538b43a-d5c7-40b5-8f02-07305eaa06c3",
   "metadata": {},
   "outputs": [
    {
     "data": {
      "text/plain": [
       "['bagel',\n",
       " 'chatgpt_plugin',\n",
       " 'chroma',\n",
       " 'database',\n",
       " 'deeplake',\n",
       " 'elasticsearch',\n",
       " 'faiss',\n",
       " 'file',\n",
       " 'make_com',\n",
       " 'metal',\n",
       " 'milvus',\n",
       " 'mongo',\n",
       " 'notion',\n",
       " 'obsidian',\n",
       " 'pinecone',\n",
       " 'qdrant',\n",
       " 'slack',\n",
       " 'steamship',\n",
       " 'string_iterable',\n",
       " 'twitter',\n",
       " 'weaviate',\n",
       " 'web',\n",
       " 'wikipedia',\n",
       " 'youtube_transcript']"
      ]
     },
     "execution_count": 6,
     "metadata": {},
     "output_type": "execute_result"
    }
   ],
   "source": [
    "common = sorted([e.replace(\".py\", \"\") for e in llama_index if e.replace(\".py\", \"\") in llama_hub])\n",
    "common"
   ]
  },
  {
   "cell_type": "markdown",
   "id": "94e7ca2e-4299-478f-bdfa-2b07e4596861",
   "metadata": {},
   "source": [
    "### LlamaIndex \\ LlamaHub"
   ]
  },
  {
   "cell_type": "code",
   "execution_count": 7,
   "id": "5e09aee6-8179-4918-b039-00a835aa8966",
   "metadata": {},
   "outputs": [
    {
     "data": {
      "text/plain": [
       "['awadb.py',\n",
       " 'dashvector.py',\n",
       " 'discord_reader.py',\n",
       " 'download.py',\n",
       " 'github_readers',\n",
       " 'google_readers',\n",
       " 'jaguar.py',\n",
       " 'json.py',\n",
       " 'mbox.py',\n",
       " 'myscale.py',\n",
       " 'pathway.py',\n",
       " 'psychic.py',\n",
       " 'redis',\n",
       " 'schema']"
      ]
     },
     "execution_count": 7,
     "metadata": {},
     "output_type": "execute_result"
    }
   ],
   "source": [
    "extensions = [el for el in llama_index if el.replace(\".py\", \"\") not in common]\n",
    "extensions"
   ]
  },
  {
   "cell_type": "code",
   "execution_count": 8,
   "id": "33f112b5-db35-48be-a1eb-4616cd269c0d",
   "metadata": {},
   "outputs": [
    {
     "name": "stdout",
     "output_type": "stream",
     "text": [
      "/Users/nerdai/Projects/forks/llama_index/llama-index-integrations/readers\n"
     ]
    }
   ],
   "source": [
    "extensions_path = \"/Users/nerdai/Projects/forks/llama_index/llama-index-integrations/readers\"\n",
    "print(extensions_path)"
   ]
  },
  {
   "cell_type": "code",
   "execution_count": 9,
   "id": "92ad6319-4ba9-427a-8eaa-91f21bc89817",
   "metadata": {},
   "outputs": [],
   "source": [
    "import subprocess # just to call an arbitrary command e.g. 'ls'\n",
    "from llama_index_migration_tools.main import main\n",
    "\n",
    "run = False\n",
    "\n",
    "if run:\n",
    "    handle_manually = []\n",
    "    for ext in extensions:\n",
    "        if \".py\" not in ext:\n",
    "            handle_manually.append(ext)\n",
    "            continue\n",
    "        name = ext.replace(\".py\",\"\").replace(\"_\",\" \")\n",
    "        base_file = f\"{llama_index_path}/{ext}\"\n",
    "        # enter the directory like this:\n",
    "        with cd(extensions_path):\n",
    "            main(integration_name=name, integration_type=\"readers\", prefix=None, base_file=base_file)"
   ]
  },
  {
   "cell_type": "code",
   "execution_count": 10,
   "id": "9b1c6d50-fe85-43a5-a373-0a321199acfe",
   "metadata": {},
   "outputs": [
    {
     "ename": "NameError",
     "evalue": "name 'handle_manually' is not defined",
     "output_type": "error",
     "traceback": [
      "\u001b[0;31m---------------------------------------------------------------------------\u001b[0m",
      "\u001b[0;31mNameError\u001b[0m                                 Traceback (most recent call last)",
      "Cell \u001b[0;32mIn[10], line 1\u001b[0m\n\u001b[0;32m----> 1\u001b[0m \u001b[43mhandle_manually\u001b[49m  \u001b[38;5;66;03m# + redis\u001b[39;00m\n",
      "\u001b[0;31mNameError\u001b[0m: name 'handle_manually' is not defined"
     ]
    }
   ],
   "source": [
    "handle_manually  # + redis"
   ]
  },
  {
   "cell_type": "markdown",
   "id": "0ce5af13-c801-4b77-85b1-f3880a19a2bb",
   "metadata": {},
   "source": [
    "### LlamaHub \\ LlamaIndex"
   ]
  },
  {
   "cell_type": "code",
   "execution_count": 11,
   "id": "82c6cf69-72b3-47c1-91eb-07e2c0f7cf0f",
   "metadata": {},
   "outputs": [
    {
     "data": {
      "text/plain": [
       "['agent_search',\n",
       " 'airbyte_cdk',\n",
       " 'airbyte_gong',\n",
       " 'airbyte_hubspot',\n",
       " 'airbyte_salesforce',\n",
       " 'airbyte_shopify',\n",
       " 'airbyte_stripe',\n",
       " 'airbyte_typeform',\n",
       " 'airbyte_zendesk_support',\n",
       " 'airtable',\n",
       " 'apify',\n",
       " 'asana',\n",
       " 'assemblyai',\n",
       " 'astra_db',\n",
       " 'athena',\n",
       " 'azcognitive_search',\n",
       " 'azstorage_blob',\n",
       " 'bilibili',\n",
       " 'bitbucket',\n",
       " 'boarddocs',\n",
       " 'confluence',\n",
       " 'couchdb',\n",
       " 'dad_jokes',\n",
       " 'discord',\n",
       " 'docstring_walker',\n",
       " 'docugami',\n",
       " 'earnings_call_transcript',\n",
       " 'feedly_rss',\n",
       " 'feishu_docs',\n",
       " 'firebase_realtimedb',\n",
       " 'firestore',\n",
       " 'github_repo',\n",
       " 'github_repo_collaborators',\n",
       " 'github_repo_issues',\n",
       " 'gmail',\n",
       " 'google_calendar',\n",
       " 'google_docs',\n",
       " 'google_drive',\n",
       " 'google_keep',\n",
       " 'google_sheets',\n",
       " 'gpt_repo',\n",
       " 'graphdb_cypher',\n",
       " 'graphql',\n",
       " 'guru',\n",
       " 'hatena_blog',\n",
       " 'hive',\n",
       " 'hubspot',\n",
       " 'huggingface',\n",
       " 'hwp',\n",
       " 'imdb_review',\n",
       " 'intercom',\n",
       " 'jira',\n",
       " 'joplin',\n",
       " 'jsondata',\n",
       " 'kaltura',\n",
       " 'kibela',\n",
       " 'lilac_reader',\n",
       " 'linear',\n",
       " 'macrometa_gdn',\n",
       " 'mangadex',\n",
       " 'mangoapps_guides',\n",
       " 'maps',\n",
       " 'memos',\n",
       " 'microsoft_onedrive',\n",
       " 'microsoft_sharepoint',\n",
       " 'minio',\n",
       " 'mondaydotcom',\n",
       " 'nougat_ocr',\n",
       " 'openalex',\n",
       " 'opendal_reader',\n",
       " 'opensearch',\n",
       " 'outlook_localcalendar',\n",
       " 'pandas_ai',\n",
       " 'papers',\n",
       " 'patentsview',\n",
       " 'pdb',\n",
       " 'pdf_table',\n",
       " 'preprocess',\n",
       " 'rayyan',\n",
       " 'readwise',\n",
       " 'reddit',\n",
       " 'remote',\n",
       " 'remote_depth',\n",
       " 's3',\n",
       " 'sec_filings',\n",
       " 'semanticscholar',\n",
       " 'singlestore',\n",
       " 'smart_pdf_loader',\n",
       " 'snowflake',\n",
       " 'snscrape_twitter',\n",
       " 'spotify',\n",
       " 'stackoverflow',\n",
       " 'stripe_docs',\n",
       " 'telegram',\n",
       " 'trello',\n",
       " 'weather',\n",
       " 'whatsapp',\n",
       " 'wordlift',\n",
       " 'wordpress',\n",
       " 'zendesk',\n",
       " 'zep',\n",
       " 'zulip']"
      ]
     },
     "execution_count": 11,
     "metadata": {},
     "output_type": "execute_result"
    }
   ],
   "source": [
    "extensions = [el for el in llama_hub if el not in common + [\"README.md\", \"add_loader.sh\", \"utils.py\", \"tools\", \"llama_datasets\", \"llama_packs\",\"library.json\"]]\n",
    "extensions"
   ]
  },
  {
   "cell_type": "code",
   "execution_count": 12,
   "id": "444d7ff4-3d98-4d1a-bcb5-ac6683169f2b",
   "metadata": {},
   "outputs": [
    {
     "data": {
      "text/plain": [
       "'/Users/nerdai/Projects/llama-hub/llama_hub/'"
      ]
     },
     "execution_count": 12,
     "metadata": {},
     "output_type": "execute_result"
    }
   ],
   "source": [
    "llama_hub_path"
   ]
  },
  {
   "cell_type": "code",
   "execution_count": 14,
   "id": "b3f6cbd1-1a91-4727-94c0-93e2a5d7257d",
   "metadata": {},
   "outputs": [
    {
     "name": "stdout",
     "output_type": "stream",
     "text": [
      "/Users/nerdai/Projects/llama-hub/llama_hub/\n",
      "/Users/nerdai/Projects/llama-hub/llama_hub/\n",
      "/Users/nerdai/Projects/llama-hub/llama_hub/\n",
      "/Users/nerdai/Projects/llama-hub/llama_hub/\n",
      "/Users/nerdai/Projects/llama-hub/llama_hub/\n",
      "/Users/nerdai/Projects/llama-hub/llama_hub/\n",
      "/Users/nerdai/Projects/llama-hub/llama_hub/\n",
      "/Users/nerdai/Projects/llama-hub/llama_hub/\n",
      "/Users/nerdai/Projects/llama-hub/llama_hub/\n",
      "/Users/nerdai/Projects/llama-hub/llama_hub/\n",
      "/Users/nerdai/Projects/llama-hub/llama_hub/\n",
      "/Users/nerdai/Projects/llama-hub/llama_hub/\n",
      "/Users/nerdai/Projects/llama-hub/llama_hub/\n",
      "/Users/nerdai/Projects/llama-hub/llama_hub/\n",
      "/Users/nerdai/Projects/llama-hub/llama_hub/\n",
      "/Users/nerdai/Projects/llama-hub/llama_hub/\n",
      "/Users/nerdai/Projects/llama-hub/llama_hub/\n",
      "/Users/nerdai/Projects/llama-hub/llama_hub/\n",
      "/Users/nerdai/Projects/llama-hub/llama_hub/\n",
      "/Users/nerdai/Projects/llama-hub/llama_hub/\n",
      "/Users/nerdai/Projects/llama-hub/llama_hub/\n",
      "/Users/nerdai/Projects/llama-hub/llama_hub/\n",
      "/Users/nerdai/Projects/llama-hub/llama_hub/\n",
      "/Users/nerdai/Projects/llama-hub/llama_hub/\n",
      "/Users/nerdai/Projects/llama-hub/llama_hub/\n",
      "/Users/nerdai/Projects/llama-hub/llama_hub/\n",
      "/Users/nerdai/Projects/llama-hub/llama_hub/\n",
      "/Users/nerdai/Projects/llama-hub/llama_hub/\n",
      "/Users/nerdai/Projects/llama-hub/llama_hub/\n",
      "/Users/nerdai/Projects/llama-hub/llama_hub/\n",
      "/Users/nerdai/Projects/llama-hub/llama_hub/\n",
      "/Users/nerdai/Projects/llama-hub/llama_hub/\n",
      "/Users/nerdai/Projects/llama-hub/llama_hub/\n",
      "/Users/nerdai/Projects/llama-hub/llama_hub/\n",
      "/Users/nerdai/Projects/llama-hub/llama_hub/\n",
      "/Users/nerdai/Projects/llama-hub/llama_hub/\n",
      "/Users/nerdai/Projects/llama-hub/llama_hub/\n",
      "/Users/nerdai/Projects/llama-hub/llama_hub/\n",
      "/Users/nerdai/Projects/llama-hub/llama_hub/\n",
      "/Users/nerdai/Projects/llama-hub/llama_hub/\n",
      "/Users/nerdai/Projects/llama-hub/llama_hub/\n",
      "/Users/nerdai/Projects/llama-hub/llama_hub/\n",
      "/Users/nerdai/Projects/llama-hub/llama_hub/\n",
      "/Users/nerdai/Projects/llama-hub/llama_hub/\n",
      "/Users/nerdai/Projects/llama-hub/llama_hub/\n",
      "/Users/nerdai/Projects/llama-hub/llama_hub/\n",
      "/Users/nerdai/Projects/llama-hub/llama_hub/\n",
      "/Users/nerdai/Projects/llama-hub/llama_hub/\n",
      "/Users/nerdai/Projects/llama-hub/llama_hub/\n",
      "/Users/nerdai/Projects/llama-hub/llama_hub/\n",
      "/Users/nerdai/Projects/llama-hub/llama_hub/\n",
      "/Users/nerdai/Projects/llama-hub/llama_hub/\n",
      "/Users/nerdai/Projects/llama-hub/llama_hub/\n",
      "/Users/nerdai/Projects/llama-hub/llama_hub/\n",
      "/Users/nerdai/Projects/llama-hub/llama_hub/\n",
      "/Users/nerdai/Projects/llama-hub/llama_hub/\n",
      "/Users/nerdai/Projects/llama-hub/llama_hub/\n",
      "/Users/nerdai/Projects/llama-hub/llama_hub/\n",
      "/Users/nerdai/Projects/llama-hub/llama_hub/\n",
      "/Users/nerdai/Projects/llama-hub/llama_hub/\n",
      "/Users/nerdai/Projects/llama-hub/llama_hub/\n",
      "/Users/nerdai/Projects/llama-hub/llama_hub/\n",
      "/Users/nerdai/Projects/llama-hub/llama_hub/\n",
      "/Users/nerdai/Projects/llama-hub/llama_hub/\n",
      "/Users/nerdai/Projects/llama-hub/llama_hub/\n",
      "/Users/nerdai/Projects/llama-hub/llama_hub/\n",
      "/Users/nerdai/Projects/llama-hub/llama_hub/\n",
      "/Users/nerdai/Projects/llama-hub/llama_hub/\n",
      "/Users/nerdai/Projects/llama-hub/llama_hub/\n",
      "/Users/nerdai/Projects/llama-hub/llama_hub/\n",
      "/Users/nerdai/Projects/llama-hub/llama_hub/\n",
      "/Users/nerdai/Projects/llama-hub/llama_hub/\n",
      "/Users/nerdai/Projects/llama-hub/llama_hub/\n",
      "/Users/nerdai/Projects/llama-hub/llama_hub/\n",
      "/Users/nerdai/Projects/llama-hub/llama_hub/\n",
      "/Users/nerdai/Projects/llama-hub/llama_hub/\n",
      "/Users/nerdai/Projects/llama-hub/llama_hub/\n",
      "/Users/nerdai/Projects/llama-hub/llama_hub/\n",
      "/Users/nerdai/Projects/llama-hub/llama_hub/\n",
      "/Users/nerdai/Projects/llama-hub/llama_hub/\n",
      "/Users/nerdai/Projects/llama-hub/llama_hub/\n",
      "/Users/nerdai/Projects/llama-hub/llama_hub/\n",
      "/Users/nerdai/Projects/llama-hub/llama_hub/\n",
      "/Users/nerdai/Projects/llama-hub/llama_hub/\n",
      "/Users/nerdai/Projects/llama-hub/llama_hub/\n",
      "/Users/nerdai/Projects/llama-hub/llama_hub/\n",
      "/Users/nerdai/Projects/llama-hub/llama_hub/\n",
      "/Users/nerdai/Projects/llama-hub/llama_hub/\n",
      "/Users/nerdai/Projects/llama-hub/llama_hub/\n",
      "/Users/nerdai/Projects/llama-hub/llama_hub/\n",
      "/Users/nerdai/Projects/llama-hub/llama_hub/\n",
      "/Users/nerdai/Projects/llama-hub/llama_hub/\n",
      "/Users/nerdai/Projects/llama-hub/llama_hub/\n",
      "/Users/nerdai/Projects/llama-hub/llama_hub/\n",
      "/Users/nerdai/Projects/llama-hub/llama_hub/\n",
      "/Users/nerdai/Projects/llama-hub/llama_hub/\n",
      "/Users/nerdai/Projects/llama-hub/llama_hub/\n",
      "/Users/nerdai/Projects/llama-hub/llama_hub/\n",
      "/Users/nerdai/Projects/llama-hub/llama_hub/\n",
      "/Users/nerdai/Projects/llama-hub/llama_hub/\n",
      "/Users/nerdai/Projects/llama-hub/llama_hub/\n"
     ]
    }
   ],
   "source": [
    "from llama_index_migration_tools.main_hub import main_hub\n",
    "\n",
    "run = True\n",
    "\n",
    "handle_manually = []\n",
    "if run:\n",
    "    for name in extensions[1:]:\n",
    "        hub_path = f\"{llama_hub_path}/{name}\"\n",
    "        print(llama_hub_path)\n",
    "        # enter the directory like this:\n",
    "        with cd(extensions_path):\n",
    "            try:\n",
    "                main_hub(integration_name=name, integration_type=\"readers\", hub_path=hub_path)\n",
    "            except FileNotFoundError as e:\n",
    "                handle_manually.append(name)"
   ]
  },
  {
   "cell_type": "code",
   "execution_count": 15,
   "id": "d84c3a54-5829-4783-b2dc-3b49dcf2efa9",
   "metadata": {},
   "outputs": [
    {
     "data": {
      "text/plain": [
       "['apify',\n",
       " 'dad_jokes',\n",
       " 'docstring_walker',\n",
       " 'gpt_repo',\n",
       " 'guru',\n",
       " 'huggingface',\n",
       " 'joplin',\n",
       " 'kaltura',\n",
       " 'mangadex',\n",
       " 'memos',\n",
       " 'minio',\n",
       " 'openalex',\n",
       " 'papers',\n",
       " 'readwise',\n",
       " 'remote']"
      ]
     },
     "execution_count": 15,
     "metadata": {},
     "output_type": "execute_result"
    }
   ],
   "source": [
    "handle_manually  # are likely multi-file"
   ]
  },
  {
   "cell_type": "markdown",
   "id": "110360e4-e53d-4962-84c8-f4c552d337cf",
   "metadata": {},
   "source": [
    "### LlamaIndex & LlamaHub"
   ]
  },
  {
   "cell_type": "markdown",
   "id": "3c6dc81b-a8ba-4d21-b5d7-70a2866e5405",
   "metadata": {},
   "source": [
    "**Github**\n",
    "- github_readers (llama-index)\n",
    "\n",
    "**Google**\n",
    "- google_readers (llama-index)"
   ]
  },
  {
   "cell_type": "code",
   "execution_count": 16,
   "id": "b608f603-46b8-49af-903c-85a90ff4784f",
   "metadata": {},
   "outputs": [
    {
     "data": {
      "text/plain": [
       "['bagel',\n",
       " 'chatgpt_plugin',\n",
       " 'chroma',\n",
       " 'database',\n",
       " 'deeplake',\n",
       " 'elasticsearch',\n",
       " 'faiss',\n",
       " 'file',\n",
       " 'make_com',\n",
       " 'metal',\n",
       " 'milvus',\n",
       " 'mongo',\n",
       " 'notion',\n",
       " 'obsidian',\n",
       " 'pinecone',\n",
       " 'qdrant',\n",
       " 'slack',\n",
       " 'steamship',\n",
       " 'string_iterable',\n",
       " 'twitter',\n",
       " 'weaviate',\n",
       " 'web',\n",
       " 'wikipedia',\n",
       " 'youtube_transcript']"
      ]
     },
     "execution_count": 16,
     "metadata": {},
     "output_type": "execute_result"
    }
   ],
   "source": [
    "common"
   ]
  },
  {
   "cell_type": "code",
   "execution_count": null,
   "id": "bc0d8d91-a434-4a8b-8988-5d065c9784c0",
   "metadata": {},
   "outputs": [],
   "source": []
  }
 ],
 "metadata": {
  "kernelspec": {
   "display_name": "migration-tools",
   "language": "python",
   "name": "migration-tools"
  },
  "language_info": {
   "codemirror_mode": {
    "name": "ipython",
    "version": 3
   },
   "file_extension": ".py",
   "mimetype": "text/x-python",
   "name": "python",
   "nbconvert_exporter": "python",
   "pygments_lexer": "ipython3",
   "version": "3.10.13"
  }
 },
 "nbformat": 4,
 "nbformat_minor": 5
}
