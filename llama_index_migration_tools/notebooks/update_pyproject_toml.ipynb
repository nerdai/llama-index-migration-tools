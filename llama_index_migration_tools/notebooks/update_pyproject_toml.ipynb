{
 "cells": [
  {
   "cell_type": "code",
   "execution_count": 63,
   "id": "ecbe2160-2237-4877-b1e6-4b0625b09310",
   "metadata": {},
   "outputs": [],
   "source": [
    "with open(\"/Users/nerdai/Projects/migration/pypackages.txt\", \"r\") as f:\n",
    "    list = f.read().split('\\n')"
   ]
  },
  {
   "cell_type": "code",
   "execution_count": 64,
   "id": "1d698c94-0b7f-43ec-8387-e967868f2aba",
   "metadata": {},
   "outputs": [
    {
     "data": {
      "text/plain": [
       "['/Users/nerdai/Projects/migration/llama_index/llama-index-experimental/pyproject.toml',\n",
       " '/Users/nerdai/Projects/migration/llama_index/llama-index-legacy/pyproject.toml',\n",
       " '/Users/nerdai/Projects/migration/llama_index/pyproject.toml',\n",
       " '/Users/nerdai/Projects/migration/llama_index/llama-index-packs/llama-index-packs-retry-engine-weaviate/pyproject.toml',\n",
       " '/Users/nerdai/Projects/migration/llama_index/llama-index-packs/llama-index-packs-llava-completion/pyproject.toml']"
      ]
     },
     "execution_count": 64,
     "metadata": {},
     "output_type": "execute_result"
    }
   ],
   "source": [
    "list[:5]"
   ]
  },
  {
   "cell_type": "code",
   "execution_count": 17,
   "id": "eeb5706d-d1be-4723-a04b-d2d04f2ab8b2",
   "metadata": {},
   "outputs": [],
   "source": [
    "import toml"
   ]
  },
  {
   "cell_type": "markdown",
   "id": "7910c8e6-0e9e-499d-b2bb-4466e9ad59d4",
   "metadata": {},
   "source": [
    "### Modify TOML"
   ]
  },
  {
   "cell_type": "code",
   "execution_count": 65,
   "id": "6a65bfc5-a230-4a3a-a55d-5a7a9ad9682e",
   "metadata": {},
   "outputs": [],
   "source": [
    "toml_path = list[0]"
   ]
  },
  {
   "cell_type": "code",
   "execution_count": 66,
   "id": "f42f8ab9-7b17-41da-ada9-416c7b73dbf7",
   "metadata": {},
   "outputs": [
    {
     "name": "stdout",
     "output_type": "stream",
     "text": [
      "/Users/nerdai/Projects/migration/llama_index/llama-index-integrations/vector_stores/llama-index-vector-stores-redis/pyproject.toml\n",
      "/Users/nerdai/Projects/migration/llama_index/llama-index-integrations/program/llama-index-program-openai/pyproject.toml\n",
      "/Users/nerdai/Projects/migration/llama_index/llama-index-integrations/readers/llama-index-readers-myscale/pyproject.toml\n",
      "/Users/nerdai/Projects/migration/llama_index/llama-index-integrations/llms/llama-index-llms-llama-cpp/pyproject.toml\n",
      "/Users/nerdai/Projects/migration/llama_index/llama-index-core/pyproject.toml\n"
     ]
    }
   ],
   "source": [
    "for toml_path in list:\n",
    "    if \".toml\" not in toml_path:\n",
    "        continue\n",
    "    pyproject = toml.load(toml_path)\n",
    "    if pyproject[\"tool\"][\"poetry\"][\"version\"] != \"0.0.1\":\n",
    "        print(toml_path)"
   ]
  },
  {
   "cell_type": "markdown",
   "id": "a9f8fdc9-e065-4f22-b355-8df87665f47d",
   "metadata": {},
   "source": [
    "```\n",
    "/Users/nerdai/Projects/migration/llama_index/llama-index-integrations/vector_stores/llama-index-vector-stores-redis/pyproject.toml\n",
    "/Users/nerdai/Projects/migration/llama_index/llama-index-integrations/program/llama-index-program-openai/pyproject.toml\n",
    "/Users/nerdai/Projects/migration/llama_index/llama-index-integrations/readers/llama-index-readers-myscale/pyproject.toml\n",
    "/Users/nerdai/Projects/migration/llama_index/llama-index-integrations/llms/llama-index-llms-llama-cpp/pyproject.toml\n",
    "/Users/nerdai/Projects/migration/llama_index/llama-index-core/pyproject.toml\n",
    "```"
   ]
  },
  {
   "cell_type": "code",
   "execution_count": 56,
   "id": "52a386c1-f64d-4495-af82-226f5b2ed490",
   "metadata": {},
   "outputs": [
    {
     "data": {
      "text/plain": [
       "'0.0.1'"
      ]
     },
     "execution_count": 56,
     "metadata": {},
     "output_type": "execute_result"
    }
   ],
   "source": [
    "pyproject[\"tool\"][\"poetry\"][\"version\"]"
   ]
  },
  {
   "cell_type": "markdown",
   "id": "bb40454f-9602-4b3d-bfa2-83550e116f75",
   "metadata": {},
   "source": [
    "### Write Updated TOML"
   ]
  },
  {
   "cell_type": "code",
   "execution_count": 52,
   "id": "770c62d0-10a6-4ded-9b01-08c90720a012",
   "metadata": {},
   "outputs": [],
   "source": [
    "with open(toml_path, \"w\") as f:\n",
    "    toml.dump(pyproject, f)"
   ]
  },
  {
   "cell_type": "code",
   "execution_count": 53,
   "id": "d144fb80-522d-4935-81eb-26b03f7d551a",
   "metadata": {},
   "outputs": [
    {
     "name": "stdout",
     "output_type": "stream",
     "text": [
      "\n"
     ]
    }
   ],
   "source": [
    "with open(toml_path, \"w+\") as f:\n",
    "    pyproject = f.read()\n",
    "    print(pyproject)\n",
    "    pyproject.replace(\"flying-delta\",\"llama-index\")\n",
    "    \n",
    "    # f.write(pyproject)"
   ]
  },
  {
   "cell_type": "code",
   "execution_count": null,
   "id": "f42fe925-9325-409a-834b-deff206c8ead",
   "metadata": {},
   "outputs": [],
   "source": []
  }
 ],
 "metadata": {
  "kernelspec": {
   "display_name": "migration-tools",
   "language": "python",
   "name": "migration-tools"
  },
  "language_info": {
   "codemirror_mode": {
    "name": "ipython",
    "version": 3
   },
   "file_extension": ".py",
   "mimetype": "text/x-python",
   "name": "python",
   "nbconvert_exporter": "python",
   "pygments_lexer": "ipython3",
   "version": "3.10.13"
  }
 },
 "nbformat": 4,
 "nbformat_minor": 5
}
