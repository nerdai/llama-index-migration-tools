{
 "cells": [
  {
   "cell_type": "code",
   "execution_count": 1,
   "id": "b2f96858-2d9b-4ed2-a859-4d1894f516a1",
   "metadata": {},
   "outputs": [],
   "source": [
    "import os\n",
    "from pathlib import Path\n",
    "import shutil\n",
    "from os import listdir\n",
    "from os.path import isfile, join"
   ]
  },
  {
   "cell_type": "code",
   "execution_count": 5,
   "id": "12cfc916-5168-4d73-ad50-7b143bd21724",
   "metadata": {},
   "outputs": [],
   "source": [
    "IGNORE_LIST = [\n",
    "'.DS_Store',\n",
    " '.ipynb_checkpoints'\n",
    "]"
   ]
  },
  {
   "cell_type": "code",
   "execution_count": 13,
   "id": "41f53bf4-78de-4683-b4ad-b84de2d5c671",
   "metadata": {},
   "outputs": [
    {
     "data": {
      "text/plain": [
       "['agent',\n",
       " 'analysis',\n",
       " 'callbacks',\n",
       " 'chat_engine',\n",
       " 'citation',\n",
       " 'composable_indices',\n",
       " 'customization',\n",
       " 'data',\n",
       " 'data_connectors',\n",
       " 'discover_llamaindex',\n",
       " 'docstore',\n",
       " 'embeddings',\n",
       " 'evaluation',\n",
       " 'finetuning',\n",
       " 'index_structs',\n",
       " 'ingestion',\n",
       " 'llama_dataset',\n",
       " 'llama_hub',\n",
       " 'llm',\n",
       " 'low_level',\n",
       " 'managed',\n",
       " 'metadata_extraction',\n",
       " 'multi_modal',\n",
       " 'multi_tenancy',\n",
       " 'node_parsers',\n",
       " 'node_postprocessor',\n",
       " 'objects',\n",
       " 'output_parsing',\n",
       " 'param_optimizer',\n",
       " 'pipeline',\n",
       " 'prompts',\n",
       " 'query_engine',\n",
       " 'query_transformations',\n",
       " 'response_synthesizers',\n",
       " 'retrievers',\n",
       " 'tools',\n",
       " 'transforms',\n",
       " 'usecases',\n",
       " 'vector_stores']"
      ]
     },
     "execution_count": 13,
     "metadata": {},
     "output_type": "execute_result"
    }
   ],
   "source": [
    "nb_path = f\"/Users/nerdai/Projects/llama_index/docs/examples\"\n",
    "nbs_top_level = [el for el in listdir(nb_path) if el not in IGNORE_LIST]\n",
    "nb_cats = sorted(nbs_top_level)\n",
    "nb_cats"
   ]
  },
  {
   "cell_type": "code",
   "execution_count": 16,
   "id": "fa36feb1-d195-42f1-88da-615f37c7b818",
   "metadata": {},
   "outputs": [],
   "source": [
    "for cat in nb_cats:\n",
    "    nbs = [el for el in listdir(nb_path + \"/\" + cat) if el not in IGNORE_LIST]\n",
    "    for nb in nbs:\n",
    "        with open(\"nbs.csv\", \"a\") as f:\n",
    "            f.write(f\"{nb},{cat},,\\n\")"
   ]
  },
  {
   "cell_type": "code",
   "execution_count": 15,
   "id": "91afc59a-edc8-4141-9092-4b4a7feb7470",
   "metadata": {},
   "outputs": [],
   "source": [
    "for nb in nbs:\n",
    "    with open(\"nbs.csv\", \"a\") as f:\n",
    "        f.write(f\"{nb},{cat},,\\n\")"
   ]
  },
  {
   "cell_type": "code",
   "execution_count": null,
   "id": "8ba8cac3-49ad-4252-b400-66cbf6776142",
   "metadata": {},
   "outputs": [],
   "source": []
  }
 ],
 "metadata": {
  "kernelspec": {
   "display_name": "migration-tools",
   "language": "python",
   "name": "migration-tools"
  },
  "language_info": {
   "codemirror_mode": {
    "name": "ipython",
    "version": 3
   },
   "file_extension": ".py",
   "mimetype": "text/x-python",
   "name": "python",
   "nbconvert_exporter": "python",
   "pygments_lexer": "ipython3",
   "version": "3.10.13"
  }
 },
 "nbformat": 4,
 "nbformat_minor": 5
}
