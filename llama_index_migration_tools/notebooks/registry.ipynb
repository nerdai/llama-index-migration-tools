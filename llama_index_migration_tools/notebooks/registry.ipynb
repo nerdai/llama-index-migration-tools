{
 "cells": [
  {
   "cell_type": "code",
   "execution_count": 35,
   "id": "f94b8d06-10d7-4b77-ad16-a84bca29b741",
   "metadata": {},
   "outputs": [],
   "source": [
    "import os\n",
    "from os import listdir"
   ]
  },
  {
   "cell_type": "code",
   "execution_count": 135,
   "id": "63ebb4f0-7d75-48f7-9cb5-29e613df994d",
   "metadata": {},
   "outputs": [
    {
     "data": {
      "text/plain": [
       "['/Users/nerdai/Projects/migration/llama_index/llama-index-experimental',\n",
       " '/Users/nerdai/Projects/migration/llama_index/llama-index-legacy',\n",
       " '/Users/nerdai/Projects/migration/llama_index',\n",
       " '/Users/nerdai/Projects/migration/llama_index/llama-index-packs/llama-index-packs-retry-engine-weaviate',\n",
       " '/Users/nerdai/Projects/migration/llama_index/llama-index-packs/llama-index-packs-llava-completion']"
      ]
     },
     "execution_count": 135,
     "metadata": {},
     "output_type": "execute_result"
    }
   ],
   "source": [
    "with open(\"/Users/nerdai/Projects/migration/llama_index/llamaindex_registry.txt\", \"r\") as f:\n",
    "    packages = f.read().split('\\n')\n",
    "\n",
    "packages[:5]"
   ]
  },
  {
   "cell_type": "markdown",
   "id": "eada3634-b3bb-426c-ac3d-b52f79ba682e",
   "metadata": {},
   "source": [
    "### Attributes\n",
    "\n",
    "1. Package name\n",
    "2. Package version\n",
    "3. Package kind (parent module)\n",
    "4. Main classes\n",
    "5. pypi link\n",
    "6. github link"
   ]
  },
  {
   "cell_type": "code",
   "execution_count": 4,
   "id": "7e489c5f-79fd-4ef2-88cb-3760aeba797d",
   "metadata": {},
   "outputs": [],
   "source": [
    "import toml"
   ]
  },
  {
   "cell_type": "code",
   "execution_count": 69,
   "id": "62619860-8dfa-42cf-8ec0-85bff9db2d1d",
   "metadata": {},
   "outputs": [],
   "source": [
    "package = '/Users/nerdai/Projects/migration/llama_index/llama-index-integrations/llms/llama-index-llms-openai'\n",
    "toml_path = os.path.join(package, \"pyproject.toml\")\n",
    "pyproject = toml.load(toml_path)"
   ]
  },
  {
   "cell_type": "code",
   "execution_count": 70,
   "id": "df54537d-5fbf-4fca-bf8d-225b4ad04357",
   "metadata": {},
   "outputs": [
    {
     "data": {
      "text/plain": [
       "{'authors': ['Your Name <you@example.com>'],\n",
       " 'description': 'llama-index llms openai integration',\n",
       " 'license': 'MIT',\n",
       " 'name': 'llama-index-llms-openai',\n",
       " 'packages': [{'include': 'llama_index/'}],\n",
       " 'readme': 'README.md',\n",
       " 'version': '0.0.1',\n",
       " 'dependencies': {'python': '>=3.8.1,<3.12', 'llama-index-core': '^0.9.32'},\n",
       " 'group': {'dev': {'dependencies': {'black': {'extras': ['jupyter'],\n",
       "     'version': '<=23.9.1,>=23.7.0'},\n",
       "    'codespell': {'extras': ['toml'], 'version': '>=v2.2.6'},\n",
       "    'ipython': '8.10.0',\n",
       "    'jupyter': '^1.0.0',\n",
       "    'mypy': '0.991',\n",
       "    'pre-commit': '3.2.0',\n",
       "    'pylint': '2.15.10',\n",
       "    'pytest': '7.2.1',\n",
       "    'pytest-mock': '3.11.1',\n",
       "    'ruff': '0.0.292',\n",
       "    'tree-sitter-languages': '^1.8.0',\n",
       "    'types-Deprecated': '>=0.1.0',\n",
       "    'types-PyYAML': '^6.0.12.12',\n",
       "    'types-protobuf': '^4.24.0.4',\n",
       "    'types-redis': '4.5.5.0',\n",
       "    'types-requests': '2.28.11.8',\n",
       "    'types-setuptools': '67.1.0.0'}}}}"
      ]
     },
     "execution_count": 70,
     "metadata": {},
     "output_type": "execute_result"
    }
   ],
   "source": [
    "pyproject['tool']['poetry']"
   ]
  },
  {
   "cell_type": "code",
   "execution_count": 98,
   "id": "305cd553-ade5-4dcf-8b42-06b0a7680dac",
   "metadata": {},
   "outputs": [],
   "source": [
    "walker = os.walk(os.path.join(package, \"llama_index\"))"
   ]
  },
  {
   "cell_type": "code",
   "execution_count": 99,
   "id": "c8ba72a2-f17f-47d3-b5a3-ef928622794a",
   "metadata": {},
   "outputs": [],
   "source": [
    "found_init = False\n",
    "namespaces = [\"llama_index\"]\n",
    "\n",
    "while not found_init:\n",
    "    _, dirs, files = next(walker)\n",
    "    namespaces += dirs\n",
    "    if \"__init__.py\" in files:\n",
    "        found_init = True"
   ]
  },
  {
   "cell_type": "markdown",
   "id": "173f3027-6f75-4059-bbc4-2d2bb99f43ee",
   "metadata": {},
   "source": [
    "#### open __init__.py"
   ]
  },
  {
   "cell_type": "code",
   "execution_count": 111,
   "id": "e480fcad-3179-4925-99f7-a3e89e909b00",
   "metadata": {},
   "outputs": [
    {
     "data": {
      "text/plain": [
       "['OpenAI', 'Tokenizer', 'SyncOpenAI', 'AsyncOpenAI']"
      ]
     },
     "execution_count": 111,
     "metadata": {},
     "output_type": "execute_result"
    }
   ],
   "source": [
    "namespace = os.path.join(*namespaces)\n",
    "with open(os.path.join(package, *[namespace, \"__init__.py\"]), \"r\") as f:\n",
    "    init = f.read()\n",
    "all = eval(init.split(\"__all__\")[-1].replace(\"=\",\"\"))\n",
    "all"
   ]
  },
  {
   "cell_type": "code",
   "execution_count": 129,
   "id": "f928c04f-b5c5-47bb-915d-3e528372635f",
   "metadata": {},
   "outputs": [
    {
     "data": {
      "text/plain": [
       "('llama-index-llms-openai',\n",
       " '0.0.1',\n",
       " 'llama_index.llms',\n",
       " 'OpenAI ◦ Tokenizer ◦ SyncOpenAI ◦ AsyncOpenAI',\n",
       " 'https://pypi.org/project/llama-index-llms-openai/',\n",
       " 'https://github.com/nerdai/llama_index/tree/nerdai/migration-v0_10_0/llama-index-integrations/llms/llama-index-llms-openai')"
      ]
     },
     "execution_count": 129,
     "metadata": {},
     "output_type": "execute_result"
    }
   ],
   "source": [
    "name = pyproject['tool']['poetry']['name']\n",
    "version = pyproject['tool']['poetry']['version']\n",
    "parent_module = os.path.join(*namespaces[:-1]).replace(\"/\", \".\")\n",
    "pypi = f\"https://pypi.org/project/{name}/\"\n",
    "classes = \" ◦ \".join(all)\n",
    "github_path = package.split(\"llama_index/\")[-1]\n",
    "github = f\"https://github.com/nerdai/llama_index/tree/nerdai/migration-v0_10_0/{github_path}\"\n",
    "\n",
    "(name, version, parent_module, classes, pypi, github)"
   ]
  },
  {
   "cell_type": "markdown",
   "id": "851beee9-f48d-4c53-8673-ee5a22eebccc",
   "metadata": {},
   "source": [
    "### Loop And Write CSV"
   ]
  },
  {
   "cell_type": "code",
   "execution_count": 161,
   "id": "8e301d6a-d87d-48e7-a037-e6922f85ee66",
   "metadata": {},
   "outputs": [],
   "source": [
    "def _get_namespaces(package):\n",
    "    walker = os.walk(os.path.join(package, \"llama_index\"))\n",
    "    namespaces = [\"llama_index\"]\n",
    "    \n",
    "    found_init = False\n",
    "    while not found_init:\n",
    "        _, dirs, files = next(walker)\n",
    "        if \"__init__.py\" in files:\n",
    "            found_init = True\n",
    "        else:\n",
    "            namespaces += dirs\n",
    "            \n",
    "    return namespaces"
   ]
  },
  {
   "cell_type": "code",
   "execution_count": 170,
   "id": "9b983e18-8026-4ee7-a4f0-2e0ed2981f5a",
   "metadata": {},
   "outputs": [],
   "source": [
    "def _get_all_imports(package, namespaces):\n",
    "    namespace = os.path.join(*namespaces)\n",
    "    with open(os.path.join(package, *[namespace, \"__init__.py\"]), \"r\") as f:\n",
    "        init = f.read()\n",
    "    if \"__all__\" in init:\n",
    "        return eval(init.split(\"__all__\")[-1].replace(\"=\",\"\"))\n",
    "    else:\n",
    "        return []"
   ]
  },
  {
   "cell_type": "code",
   "execution_count": 174,
   "id": "60f76dc4-2103-4307-80ab-11662e0ad919",
   "metadata": {},
   "outputs": [],
   "source": [
    "def _init_csv():\n",
    "    with open(\"llamaindex_packages.csv\", \"w\") as f:\n",
    "        f.write(f\"name,version,parent_module,classes,pypi,github\\n\")"
   ]
  },
  {
   "cell_type": "code",
   "execution_count": 191,
   "id": "158a0872-4aba-4f8f-8f91-193970c560fb",
   "metadata": {
    "scrolled": true
   },
   "outputs": [
    {
     "name": "stdout",
     "output_type": "stream",
     "text": [
      "/Users/nerdai/Projects/migration/llama_index/llama-index-experimental\n",
      "/Users/nerdai/Projects/migration/llama_index/llama-index-legacy\n",
      "/Users/nerdai/Projects/migration/llama_index\n",
      "/Users/nerdai/Projects/migration/llama_index/llama-index-packs/llama-index-packs-retry-engine-weaviate\n",
      "/Users/nerdai/Projects/migration/llama_index/llama-index-packs/llama-index-packs-llava-completion\n",
      "/Users/nerdai/Projects/migration/llama_index/llama-index-packs/llama-index-packs-zephyr-query-engine\n",
      "/Users/nerdai/Projects/migration/llama_index/llama-index-packs/llama-index-packs-timescale-vector-autoretrieval\n",
      "/Users/nerdai/Projects/migration/llama_index/llama-index-packs/llama-index-packs-multi-document-agents\n",
      "/Users/nerdai/Projects/migration/llama_index/llama-index-packs/llama-index-packs-multidoc-autoretrieval\n",
      "/Users/nerdai/Projects/migration/llama_index/llama-index-packs/llama-index-packs-gmail-openai-agent\n",
      "/Users/nerdai/Projects/migration/llama_index/llama-index-packs/llama-index-packs-neo4j-query-engine\n",
      "/Users/nerdai/Projects/migration/llama_index/llama-index-packs/llama-index-packs-chroma-autoretrieval\n",
      "/Users/nerdai/Projects/migration/llama_index/llama-index-packs/llama-index-packs-resume-screener\n",
      "/Users/nerdai/Projects/migration/llama_index/llama-index-packs/llama-index-packs-trulens-eval-packs\n",
      "/Users/nerdai/Projects/migration/llama_index/llama-index-packs/llama-index-packs-evaluator-benchmarker\n",
      "/Users/nerdai/Projects/migration/llama_index/llama-index-packs/llama-index-packs-vanna\n",
      "/Users/nerdai/Projects/migration/llama_index/llama-index-packs/llama-index-packs-rag-fusion-query-pipeline\n",
      "/Users/nerdai/Projects/migration/llama_index/llama-index-packs/llama-index-packs-llama-guard-moderator\n",
      "/Users/nerdai/Projects/migration/llama_index/llama-index-packs/llama-index-packs-snowflake-query-engine\n",
      "/Users/nerdai/Projects/migration/llama_index/llama-index-packs/llama-index-packs-self-rag\n",
      "/Users/nerdai/Projects/migration/llama_index/llama-index-packs/llama-index-packs-llama-dataset-metadata\n",
      "/Users/nerdai/Projects/migration/llama_index/llama-index-packs/llama-index-packs-stock-market-data-query-engine\n",
      "/Users/nerdai/Projects/migration/llama_index/llama-index-packs/llama-index-packs-rag-evaluator\n",
      "/Users/nerdai/Projects/migration/llama_index/llama-index-packs/llama-index-packs-arize-phoenix-query-engine\n",
      "/Users/nerdai/Projects/migration/llama_index/llama-index-packs/llama-index-packs-panel-chatbot\n",
      "/Users/nerdai/Projects/migration/llama_index/llama-index-packs/llama-index-packs-rag-cli-local\n",
      "/Users/nerdai/Projects/migration/llama_index/llama-index-packs/llama-index-packs-multi-tenancy-rag\n",
      "/Users/nerdai/Projects/migration/llama_index/llama-index-packs/llama-index-packs-streamlit-chatbot\n",
      "/Users/nerdai/Projects/migration/llama_index/llama-index-packs/llama-index-packs-vectara-rag\n",
      "/Users/nerdai/Projects/migration/llama_index/llama-index-packs/llama-index-packs-tables\n",
      "/Users/nerdai/Projects/migration/llama_index/llama-index-packs/llama-index-packs-node-parser-semantic-chunking\n",
      "/Users/nerdai/Projects/migration/llama_index/llama-index-packs/llama-index-packs-redis-ingestion-pipeline\n",
      "/Users/nerdai/Projects/migration/llama_index/llama-index-packs/llama-index-packs-dense-x-retrieval\n",
      "/Users/nerdai/Projects/migration/llama_index/llama-index-packs/llama-index-packs-auto-merging-retriever\n",
      "/Users/nerdai/Projects/migration/llama_index/llama-index-packs/llama-index-packs-agents-llm-compiler\n",
      "/Users/nerdai/Projects/migration/llama_index/llama-index-packs/llama-index-packs-gradio-react-agent-chatbot\n",
      "/Users/nerdai/Projects/migration/llama_index/llama-index-packs/llama-index-packs-sub-question-weaviate\n",
      "/Users/nerdai/Projects/migration/llama_index/llama-index-packs/llama-index-packs-deeplake-deepmemory-retriever\n",
      "/Users/nerdai/Projects/migration/llama_index/llama-index-packs/llama-index-packs-nebulagraph-query-engine\n",
      "/Users/nerdai/Projects/migration/llama_index/llama-index-packs/llama-index-packs-voyage-query-engine\n",
      "/Users/nerdai/Projects/migration/llama_index/llama-index-packs/llama-index-packs-infer-retrieve-rerank\n",
      "/Users/nerdai/Projects/migration/llama_index/llama-index-packs/llama-index-packs-sentence-window-retriever\n",
      "/Users/nerdai/Projects/migration/llama_index/llama-index-packs/llama-index-packs-recursive-retriever\n",
      "/Users/nerdai/Projects/migration/llama_index/llama-index-packs/llama-index-packs-amazon-product-extraction\n",
      "/Users/nerdai/Projects/migration/llama_index/llama-index-packs/llama-index-packs-cogniswitch-agent\n",
      "/Users/nerdai/Projects/migration/llama_index/llama-index-packs/llama-index-packs-ollama-query-engine\n",
      "/Users/nerdai/Projects/migration/llama_index/llama-index-packs/llama-index-packs-ragatouille-retriever\n",
      "/Users/nerdai/Projects/migration/llama_index/llama-index-packs/llama-index-packs-fuzzy-citation\n",
      "/Users/nerdai/Projects/migration/llama_index/llama-index-packs/llama-index-packs-deeplake-multimodal-retrieval\n",
      "/Users/nerdai/Projects/migration/llama_index/llama-index-packs/llama-index-packs-gradio-agent-chat\n",
      "/Users/nerdai/Projects/migration/llama_index/llama-index-packs/llama-index-packs-agent-search-retriever\n",
      "/Users/nerdai/Projects/migration/llama_index/llama-index-packs/llama-index-packs-fusion-retriever\n",
      "/Users/nerdai/Projects/migration/llama_index/llama-index-finetuning\n",
      "/Users/nerdai/Projects/migration/llama_index/llama-index-integrations/vector_stores/llama-index-vector-stores-singlestoredb\n",
      "/Users/nerdai/Projects/migration/llama_index/llama-index-integrations/vector_stores/llama-index-vector-stores-qdrant\n",
      "/Users/nerdai/Projects/migration/llama_index/llama-index-integrations/vector_stores/llama-index-vector-stores-pinecone\n",
      "/Users/nerdai/Projects/migration/llama_index/llama-index-integrations/vector_stores/llama-index-vector-stores-supabase\n",
      "/Users/nerdai/Projects/migration/llama_index/llama-index-integrations/vector_stores/llama-index-vector-stores-upstash\n",
      "/Users/nerdai/Projects/migration/llama_index/llama-index-integrations/vector_stores/llama-index-vector-stores-astra\n",
      "/Users/nerdai/Projects/migration/llama_index/llama-index-integrations/vector_stores/llama-index-vector-stores-lancedb\n",
      "/Users/nerdai/Projects/migration/llama_index/llama-index-integrations/vector_stores/llama-index-vector-stores-elasticsearch\n",
      "/Users/nerdai/Projects/migration/llama_index/llama-index-integrations/vector_stores/llama-index-vector-stores-postgres\n",
      "/Users/nerdai/Projects/migration/llama_index/llama-index-integrations/vector_stores/llama-index-vector-stores-cassandra\n",
      "/Users/nerdai/Projects/migration/llama_index/llama-index-integrations/vector_stores/llama-index-vector-stores-zep\n",
      "/Users/nerdai/Projects/migration/llama_index/llama-index-integrations/vector_stores/llama-index-vector-stores-rocksetdb\n",
      "/Users/nerdai/Projects/migration/llama_index/llama-index-integrations/vector_stores/llama-index-vector-stores-myscale\n",
      "/Users/nerdai/Projects/migration/llama_index/llama-index-integrations/vector_stores/llama-index-vector-stores-tencentvectordb\n",
      "/Users/nerdai/Projects/migration/llama_index/llama-index-integrations/vector_stores/llama-index-vector-stores-milvus\n",
      "/Users/nerdai/Projects/migration/llama_index/llama-index-integrations/vector_stores/llama-index-vector-stores-neo4jvector\n",
      "/Users/nerdai/Projects/migration/llama_index/llama-index-integrations/vector_stores/llama-index-vector-stores-deeplake\n",
      "/Users/nerdai/Projects/migration/llama_index/llama-index-integrations/vector_stores/llama-index-vector-stores-weaviate\n",
      "/Users/nerdai/Projects/migration/llama_index/llama-index-integrations/vector_stores/llama-index-vector-stores-timescalevector\n",
      "/Users/nerdai/Projects/migration/llama_index/llama-index-integrations/vector_stores/llama-index-vector-stores-dashvector\n",
      "/Users/nerdai/Projects/migration/llama_index/llama-index-integrations/vector_stores/llama-index-vector-stores-jaguar\n",
      "/Users/nerdai/Projects/migration/llama_index/llama-index-integrations/vector_stores/llama-index-vector-stores-faiss\n",
      "/Users/nerdai/Projects/migration/llama_index/llama-index-integrations/vector_stores/llama-index-vector-stores-azureaisearch\n",
      "/Users/nerdai/Projects/migration/llama_index/llama-index-integrations/vector_stores/llama-index-vector-stores-mongodb\n",
      "/Users/nerdai/Projects/migration/llama_index/llama-index-integrations/vector_stores/llama-index-vector-stores-chroma\n",
      "/Users/nerdai/Projects/migration/llama_index/llama-index-integrations/vector_stores/llama-index-vector-stores-bagel\n",
      "/Users/nerdai/Projects/migration/llama_index/llama-index-integrations/vector_stores/llama-index-vector-stores-txtai\n",
      "/Users/nerdai/Projects/migration/llama_index/llama-index-integrations/vector_stores/llama-index-vector-stores-epsilla\n",
      "/Users/nerdai/Projects/migration/llama_index/llama-index-integrations/vector_stores/llama-index-vector-stores-lantern\n",
      "/Users/nerdai/Projects/migration/llama_index/llama-index-integrations/vector_stores/llama-index-vector-stores-awadb\n",
      "/Users/nerdai/Projects/migration/llama_index/llama-index-integrations/vector_stores/llama-index-vector-stores-azurecosmosmongo\n",
      "/Users/nerdai/Projects/migration/llama_index/llama-index-integrations/vector_stores/llama-index-vector-stores-typesense\n",
      "/Users/nerdai/Projects/migration/llama_index/llama-index-integrations/vector_stores/llama-index-vector-stores-pgvecto-rs\n",
      "/Users/nerdai/Projects/migration/llama_index/llama-index-integrations/vector_stores/llama-index-vector-stores-opensearch\n",
      "/Users/nerdai/Projects/migration/llama_index/llama-index-integrations/vector_stores/llama-index-vector-stores-docarray\n",
      "/Users/nerdai/Projects/migration/llama_index/llama-index-integrations/vector_stores/llama-index-vector-stores-dynamodb\n",
      "/Users/nerdai/Projects/migration/llama_index/llama-index-integrations/vector_stores/llama-index-vector-stores-chatgpt-plugin\n",
      "/Users/nerdai/Projects/migration/llama_index/llama-index-integrations/vector_stores/llama-index-vector-stores-tair\n",
      "/Users/nerdai/Projects/migration/llama_index/llama-index-integrations/vector_stores/llama-index-vector-stores-redis\n",
      "/Users/nerdai/Projects/migration/llama_index/llama-index-integrations/vector_stores/llama-index-vector-stores-google\n",
      "/Users/nerdai/Projects/migration/llama_index/llama-index-integrations/vector_stores/llama-index-vector-stores-metal\n",
      "/Users/nerdai/Projects/migration/llama_index/llama-index-integrations/retrievers/llama-index-retrievers-pathway\n",
      "/Users/nerdai/Projects/migration/llama_index/llama-index-integrations/retrievers/llama-index-retrievers-bm25\n",
      "/Users/nerdai/Projects/migration/llama_index/llama-index-integrations/retrievers/llama-index-retrievers-you\n",
      "/Users/nerdai/Projects/migration/llama_index/llama-index-integrations/indices/llama-index-indices-managed-zilliz\n",
      "/Users/nerdai/Projects/migration/llama_index/llama-index-integrations/indices/llama-index-indices-managed-colbert\n",
      "/Users/nerdai/Projects/migration/llama_index/llama-index-integrations/indices/llama-index-indices-managed-vectara\n",
      "/Users/nerdai/Projects/migration/llama_index/llama-index-integrations/indices/llama-index-indices-managed-google\n",
      "/Users/nerdai/Projects/migration/llama_index/llama-index-integrations/tools/llama-index-tools-salesforce\n",
      "/Users/nerdai/Projects/migration/llama_index/llama-index-integrations/tools/llama-index-tools-python-file\n",
      "/Users/nerdai/Projects/migration/llama_index/llama-index-integrations/tools/llama-index-tools-ionic-shopping\n",
      "/Users/nerdai/Projects/migration/llama_index/llama-index-integrations/tools/llama-index-tools-text-to-image\n",
      "/Users/nerdai/Projects/migration/llama_index/llama-index-integrations/tools/llama-index-tools-openapi\n",
      "/Users/nerdai/Projects/migration/llama_index/llama-index-integrations/tools/llama-index-tools-shopify\n",
      "/Users/nerdai/Projects/migration/llama_index/llama-index-integrations/tools/llama-index-tools-metaphor\n",
      "/Users/nerdai/Projects/migration/llama_index/llama-index-integrations/tools/llama-index-tools-zapier\n",
      "/Users/nerdai/Projects/migration/llama_index/llama-index-integrations/tools/llama-index-tools-wikipedia\n",
      "/Users/nerdai/Projects/migration/llama_index/llama-index-integrations/tools/llama-index-tools-google\n",
      "/Users/nerdai/Projects/migration/llama_index/llama-index-integrations/tools/llama-index-tools-azure-translate\n",
      "/Users/nerdai/Projects/migration/llama_index/llama-index-integrations/tools/llama-index-tools-multion\n",
      "/Users/nerdai/Projects/migration/llama_index/llama-index-integrations/tools/llama-index-tools-database\n",
      "/Users/nerdai/Projects/migration/llama_index/llama-index-integrations/tools/llama-index-tools-chatgpt-plugin\n",
      "/Users/nerdai/Projects/migration/llama_index/llama-index-integrations/tools/llama-index-tools-neo4j\n",
      "/Users/nerdai/Projects/migration/llama_index/llama-index-integrations/tools/llama-index-tools-bing-search\n",
      "/Users/nerdai/Projects/migration/llama_index/llama-index-integrations/tools/llama-index-tools-exa\n",
      "/Users/nerdai/Projects/migration/llama_index/llama-index-integrations/tools/llama-index-tools-cogniswitch\n",
      "/Users/nerdai/Projects/migration/llama_index/llama-index-integrations/tools/llama-index-tools-azure-cv\n",
      "/Users/nerdai/Projects/migration/llama_index/llama-index-integrations/tools/llama-index-tools-notion\n",
      "/Users/nerdai/Projects/migration/llama_index/llama-index-integrations/tools/llama-index-tools-yelp\n",
      "/Users/nerdai/Projects/migration/llama_index/llama-index-integrations/tools/llama-index-tools-weather\n",
      "/Users/nerdai/Projects/migration/llama_index/llama-index-integrations/tools/llama-index-tools-azure-speech\n",
      "/Users/nerdai/Projects/migration/llama_index/llama-index-integrations/tools/llama-index-tools-wolfram-alpha\n",
      "/Users/nerdai/Projects/migration/llama_index/llama-index-integrations/tools/llama-index-tools-slack\n",
      "/Users/nerdai/Projects/migration/llama_index/llama-index-integrations/tools/llama-index-tools-tavily-research\n",
      "/Users/nerdai/Projects/migration/llama_index/llama-index-integrations/tools/llama-index-tools-arxiv\n",
      "/Users/nerdai/Projects/migration/llama_index/llama-index-integrations/tools/llama-index-tools-vector-db\n",
      "/Users/nerdai/Projects/migration/llama_index/llama-index-integrations/tools/llama-index-tools-code-interpreter\n",
      "/Users/nerdai/Projects/migration/llama_index/llama-index-integrations/tools/llama-index-tools-waii\n",
      "/Users/nerdai/Projects/migration/llama_index/llama-index-integrations/tools/llama-index-tools-requests\n",
      "/Users/nerdai/Projects/migration/llama_index/llama-index-integrations/tools/llama-index-tools-openai\n",
      "/Users/nerdai/Projects/migration/llama_index/llama-index-integrations/tools/llama-index-tools-graphql\n",
      "/Users/nerdai/Projects/migration/llama_index/llama-index-integrations/tools/llama-index-tools-playgrounds\n",
      "/Users/nerdai/Projects/migration/llama_index/llama-index-integrations/embeddings/llama-index-embeddings-clip\n",
      "/Users/nerdai/Projects/migration/llama_index/llama-index-integrations/embeddings/llama-index-embeddings-anyscale\n",
      "/Users/nerdai/Projects/migration/llama_index/llama-index-integrations/embeddings/llama-index-embeddings-llm-rails\n",
      "/Users/nerdai/Projects/migration/llama_index/llama-index-integrations/embeddings/llama-index-embeddings-adapter\n",
      "/Users/nerdai/Projects/migration/llama_index/llama-index-integrations/embeddings/llama-index-embeddings-together\n",
      "/Users/nerdai/Projects/migration/llama_index/llama-index-integrations/embeddings/llama-index-embeddings-voyageai\n",
      "/Users/nerdai/Projects/migration/llama_index/llama-index-integrations/embeddings/llama-index-embeddings-gradient\n",
      "/Users/nerdai/Projects/migration/llama_index/llama-index-integrations/embeddings/llama-index-embeddings-huggingface\n",
      "/Users/nerdai/Projects/migration/llama_index/llama-index-integrations/embeddings/llama-index-embeddings-ollama\n",
      "/Users/nerdai/Projects/migration/llama_index/llama-index-integrations/embeddings/llama-index-embeddings-sagemaker-endpoint\n",
      "/Users/nerdai/Projects/migration/llama_index/llama-index-integrations/embeddings/llama-index-embeddings-openai\n",
      "/Users/nerdai/Projects/migration/llama_index/llama-index-integrations/embeddings/llama-index-embeddings-cohere\n",
      "/Users/nerdai/Projects/migration/llama_index/llama-index-integrations/embeddings/llama-index-embeddings-jinaai\n",
      "/Users/nerdai/Projects/migration/llama_index/llama-index-integrations/embeddings/llama-index-embeddings-nomic\n",
      "/Users/nerdai/Projects/migration/llama_index/llama-index-integrations/embeddings/llama-index-embeddings-gemini\n",
      "/Users/nerdai/Projects/migration/llama_index/llama-index-integrations/embeddings/llama-index-embeddings-fastembed\n",
      "/Users/nerdai/Projects/migration/llama_index/llama-index-integrations/embeddings/llama-index-embeddings-instructor\n",
      "/Users/nerdai/Projects/migration/llama_index/llama-index-integrations/embeddings/llama-index-embeddings-huggingface-optimum\n",
      "/Users/nerdai/Projects/migration/llama_index/llama-index-integrations/embeddings/llama-index-embeddings-langchain\n",
      "/Users/nerdai/Projects/migration/llama_index/llama-index-integrations/embeddings/llama-index-embeddings-google\n",
      "/Users/nerdai/Projects/migration/llama_index/llama-index-integrations/embeddings/llama-index-embeddings-mistralai\n",
      "/Users/nerdai/Projects/migration/llama_index/llama-index-integrations/embeddings/llama-index-embeddings-bedrock\n",
      "/Users/nerdai/Projects/migration/llama_index/llama-index-integrations/embeddings/llama-index-embeddings-clarifai\n",
      "/Users/nerdai/Projects/migration/llama_index/llama-index-integrations/embeddings/llama-index-embeddings-elasticsearch\n",
      "/Users/nerdai/Projects/migration/llama_index/llama-index-integrations/embeddings/llama-index-embeddings-azure-openai\n",
      "/Users/nerdai/Projects/migration/llama_index/llama-index-integrations/embeddings/llama-index-embeddings-text-embeddings-inference\n",
      "/Users/nerdai/Projects/migration/llama_index/llama-index-integrations/callbacks/llama-index-callbacks-deepeval\n",
      "/Users/nerdai/Projects/migration/llama_index/llama-index-integrations/callbacks/llama-index-callbacks-openinference\n",
      "/Users/nerdai/Projects/migration/llama_index/llama-index-integrations/callbacks/llama-index-callbacks-wandb\n",
      "/Users/nerdai/Projects/migration/llama_index/llama-index-integrations/callbacks/llama-index-callbacks-argilla\n",
      "/Users/nerdai/Projects/migration/llama_index/llama-index-integrations/callbacks/llama-index-callbacks-honeyhive\n",
      "/Users/nerdai/Projects/migration/llama_index/llama-index-integrations/callbacks/llama-index-callbacks-arize-phoenix\n",
      "/Users/nerdai/Projects/migration/llama_index/llama-index-integrations/callbacks/llama-index-callbacks-aim\n",
      "/Users/nerdai/Projects/migration/llama_index/llama-index-integrations/callbacks/llama-index-callbacks-promptlayer\n",
      "/Users/nerdai/Projects/migration/llama_index/llama-index-integrations/postprocessor/llama-index-postprocessor-sbert-rerank\n",
      "/Users/nerdai/Projects/migration/llama_index/llama-index-integrations/postprocessor/llama-index-postprocessor-longllmlingua\n",
      "/Users/nerdai/Projects/migration/llama_index/llama-index-integrations/postprocessor/llama-index-postprocessor-rankgpt-rerank\n",
      "/Users/nerdai/Projects/migration/llama_index/llama-index-integrations/postprocessor/llama-index-postprocessor-cohere-rerank\n",
      "/Users/nerdai/Projects/migration/llama_index/llama-index-integrations/postprocessor/llama-index-postprocessor-flag-embedding-reranker\n",
      "/Users/nerdai/Projects/migration/llama_index/llama-index-integrations/graph_stores/llama-index-graph-stores-neo4j\n",
      "/Users/nerdai/Projects/migration/llama_index/llama-index-integrations/graph_stores/llama-index-graph-stores-falkordb\n",
      "/Users/nerdai/Projects/migration/llama_index/llama-index-integrations/graph_stores/llama-index-graph-stores-kuzu\n",
      "/Users/nerdai/Projects/migration/llama_index/llama-index-integrations/graph_stores/llama-index-graph-stores-nebula\n",
      "/Users/nerdai/Projects/migration/llama_index/llama-index-integrations/multi_modal_llms/llama-index-multi-modal-llms-openai\n",
      "/Users/nerdai/Projects/migration/llama_index/llama-index-integrations/multi_modal_llms/llama-index-multi-modal-llms-ollama\n",
      "/Users/nerdai/Projects/migration/llama_index/llama-index-integrations/multi_modal_llms/llama-index-multi-modal-llms-azure-openai\n",
      "/Users/nerdai/Projects/migration/llama_index/llama-index-integrations/multi_modal_llms/llama-index-multi-modal-llms-replicate\n",
      "/Users/nerdai/Projects/migration/llama_index/llama-index-integrations/multi_modal_llms/llama-index-multi-modal-llms-gemini\n",
      "/Users/nerdai/Projects/migration/llama_index/llama-index-integrations/multi_modal_llms/llama-index-multi-modal-llms-replicate-multi-modal\n",
      "/Users/nerdai/Projects/migration/llama_index/llama-index-integrations/multi_modal_llms/llama-index-multi-modal-llms-dashscope\n",
      "/Users/nerdai/Projects/migration/llama_index/llama-index-integrations/agent/llama-index-agent-openai\n",
      "/Users/nerdai/Projects/migration/llama_index/llama-index-integrations/agent/llama-index-agent-openai-legacy\n",
      "/Users/nerdai/Projects/migration/llama_index/llama-index-integrations/storage/kvstore/llama-index-storage-kvstore-postgres\n",
      "/Users/nerdai/Projects/migration/llama_index/llama-index-integrations/storage/kvstore/llama-index-storage-kvstore-redis\n",
      "/Users/nerdai/Projects/migration/llama_index/llama-index-integrations/storage/kvstore/llama-index-storage-kvstore-firestore\n",
      "/Users/nerdai/Projects/migration/llama_index/llama-index-integrations/storage/kvstore/llama-index-storage-kvstore-mongodb\n",
      "/Users/nerdai/Projects/migration/llama_index/llama-index-integrations/storage/kvstore/llama-index-storage-kvstore-s3\n",
      "/Users/nerdai/Projects/migration/llama_index/llama-index-integrations/storage/kvstore/llama-index-storage-kvstore-dynamodb\n",
      "/Users/nerdai/Projects/migration/llama_index/llama-index-integrations/storage/docstore/llama-index-storage-docstore-dynamodb\n",
      "/Users/nerdai/Projects/migration/llama_index/llama-index-integrations/storage/docstore/llama-index-storage-docstore-mongodb\n",
      "/Users/nerdai/Projects/migration/llama_index/llama-index-integrations/storage/docstore/llama-index-storage-docstore-firestore\n",
      "/Users/nerdai/Projects/migration/llama_index/llama-index-integrations/storage/docstore/llama-index-storage-docstore-redis\n",
      "/Users/nerdai/Projects/migration/llama_index/llama-index-integrations/storage/docstore/llama-index-storage-docstore-postgres\n",
      "/Users/nerdai/Projects/migration/llama_index/llama-index-integrations/storage/index_store/llama-index-storage-index-store-postgres\n",
      "/Users/nerdai/Projects/migration/llama_index/llama-index-integrations/storage/index_store/llama-index-storage-index-store-dynamodb\n",
      "/Users/nerdai/Projects/migration/llama_index/llama-index-integrations/storage/index_store/llama-index-storage-index-store-firestore\n",
      "/Users/nerdai/Projects/migration/llama_index/llama-index-integrations/storage/index_store/llama-index-storage-index-store-mongodb\n",
      "/Users/nerdai/Projects/migration/llama_index/llama-index-integrations/storage/index_store/llama-index-storage-index-store-redis\n",
      "/Users/nerdai/Projects/migration/llama_index/llama-index-integrations/storage/chat_store/llama-index-storage-chat-store-redis\n",
      "/Users/nerdai/Projects/migration/llama_index/llama-index-integrations/output_parsers/llama-index-output-parsers-langchain\n",
      "/Users/nerdai/Projects/migration/llama_index/llama-index-integrations/output_parsers/llama-index-output-parsers-guardrails\n",
      "/Users/nerdai/Projects/migration/llama_index/llama-index-integrations/program/llama-index-program-openai\n",
      "/Users/nerdai/Projects/migration/llama_index/llama-index-integrations/program/llama-index-program-lmformatenforcer\n",
      "/Users/nerdai/Projects/migration/llama_index/llama-index-integrations/program/llama-index-program-guidance\n",
      "/Users/nerdai/Projects/migration/llama_index/llama-index-integrations/program/llama-index-program-evaporate\n",
      "/Users/nerdai/Projects/migration/llama_index/llama-index-integrations/prompts/llama-index-prompts-lmformatenforcer\n",
      "/Users/nerdai/Projects/migration/llama_index/llama-index-integrations/prompts/llama-index-prompts-guidance\n",
      "/Users/nerdai/Projects/migration/llama_index/llama-index-integrations/response_synthesizers/llama-index-response-synthesizers-google\n",
      "/Users/nerdai/Projects/migration/llama_index/llama-index-integrations/evaluation/llama-index-evaluation-tonic-validate\n",
      "/Users/nerdai/Projects/migration/llama_index/llama-index-integrations/prompt_utils/llama-index-prompt-utils-guidance\n",
      "/Users/nerdai/Projects/migration/llama_index/llama-index-integrations/prompt_utils/llama-index-prompt-utils-lmformatenforcer\n",
      "/Users/nerdai/Projects/migration/llama_index/llama-index-integrations/readers/llama-index-readers-docugami\n",
      "/Users/nerdai/Projects/migration/llama_index/llama-index-integrations/readers/llama-index-readers-slack\n",
      "/Users/nerdai/Projects/migration/llama_index/llama-index-integrations/readers/llama-index-readers-youtube-transcript\n",
      "/Users/nerdai/Projects/migration/llama_index/llama-index-integrations/readers/llama-index-readers-mbox\n",
      "/Users/nerdai/Projects/migration/llama_index/llama-index-integrations/readers/llama-index-readers-stackoverflow\n",
      "/Users/nerdai/Projects/migration/llama_index/llama-index-integrations/readers/llama-index-readers-pdb\n",
      "/Users/nerdai/Projects/migration/llama_index/llama-index-integrations/readers/llama-index-readers-snowflake\n",
      "/Users/nerdai/Projects/migration/llama_index/llama-index-integrations/readers/llama-index-readers-discord\n",
      "/Users/nerdai/Projects/migration/llama_index/llama-index-integrations/readers/llama-index-readers-earnings-call-transcript\n",
      "/Users/nerdai/Projects/migration/llama_index/llama-index-integrations/readers/llama-index-readers-couchdb\n",
      "/Users/nerdai/Projects/migration/llama_index/llama-index-integrations/readers/llama-index-readers-singlestore\n",
      "/Users/nerdai/Projects/migration/llama_index/llama-index-integrations/readers/llama-index-readers-json\n",
      "/Users/nerdai/Projects/migration/llama_index/llama-index-integrations/readers/llama-index-readers-trello\n",
      "/Users/nerdai/Projects/migration/llama_index/llama-index-integrations/readers/llama-index-readers-jaguar\n",
      "/Users/nerdai/Projects/migration/llama_index/llama-index-integrations/readers/llama-index-readers-jira\n",
      "/Users/nerdai/Projects/migration/llama_index/llama-index-integrations/readers/llama-index-readers-pdf-table\n",
      "/Users/nerdai/Projects/migration/llama_index/llama-index-integrations/readers/llama-index-readers-kibela\n",
      "/Users/nerdai/Projects/migration/llama_index/llama-index-integrations/readers/llama-index-readers-dashvector\n",
      "/Users/nerdai/Projects/migration/llama_index/llama-index-integrations/readers/llama-index-readers-bilibili\n",
      "/Users/nerdai/Projects/migration/llama_index/llama-index-integrations/readers/llama-index-readers-smart-pdf-loader\n",
      "/Users/nerdai/Projects/migration/llama_index/llama-index-integrations/readers/llama-index-readers-agent-search\n",
      "/Users/nerdai/Projects/migration/llama_index/llama-index-integrations/readers/llama-index-readers-macrometa-gdn\n",
      "/Users/nerdai/Projects/migration/llama_index/llama-index-integrations/readers/llama-index-readers-twitter\n",
      "/Users/nerdai/Projects/migration/llama_index/llama-index-integrations/readers/llama-index-readers-astra-db\n",
      "/Users/nerdai/Projects/migration/llama_index/llama-index-integrations/readers/llama-index-readers-opendal\n",
      "/Users/nerdai/Projects/migration/llama_index/llama-index-integrations/readers/llama-index-readers-azstorage-blob\n",
      "/Users/nerdai/Projects/migration/llama_index/llama-index-integrations/readers/llama-index-readers-readwise\n",
      "/Users/nerdai/Projects/migration/llama_index/llama-index-integrations/readers/llama-index-readers-genius\n",
      "/Users/nerdai/Projects/migration/llama_index/llama-index-integrations/readers/llama-index-readers-apify\n",
      "/Users/nerdai/Projects/migration/llama_index/llama-index-integrations/readers/llama-index-readers-athena\n",
      "/Users/nerdai/Projects/migration/llama_index/llama-index-integrations/readers/llama-index-readers-database\n",
      "/Users/nerdai/Projects/migration/llama_index/llama-index-integrations/readers/llama-index-readers-remote\n",
      "/Users/nerdai/Projects/migration/llama_index/llama-index-integrations/readers/llama-index-readers-asana\n",
      "/Users/nerdai/Projects/migration/llama_index/llama-index-integrations/readers/llama-index-readers-hive\n",
      "/Users/nerdai/Projects/migration/llama_index/llama-index-integrations/readers/llama-index-readers-docstring-walker\n",
      "/Users/nerdai/Projects/migration/llama_index/llama-index-integrations/readers/llama-index-readers-airbyte-salesforce\n",
      "/Users/nerdai/Projects/migration/llama_index/llama-index-integrations/readers/llama-index-readers-stripe-docs\n",
      "/Users/nerdai/Projects/migration/llama_index/llama-index-integrations/readers/llama-index-readers-milvus\n",
      "/Users/nerdai/Projects/migration/llama_index/llama-index-integrations/readers/llama-index-readers-nougat-ocr\n",
      "/Users/nerdai/Projects/migration/llama_index/llama-index-integrations/readers/llama-index-readers-assemblyai\n",
      "/Users/nerdai/Projects/migration/llama_index/llama-index-integrations/readers/llama-index-readers-graphdb-cypher\n",
      "/Users/nerdai/Projects/migration/llama_index/llama-index-integrations/readers/llama-index-readers-confluence\n",
      "/Users/nerdai/Projects/migration/llama_index/llama-index-integrations/readers/llama-index-readers-lilac\n",
      "/Users/nerdai/Projects/migration/llama_index/llama-index-integrations/readers/llama-index-readers-github\n",
      "/Users/nerdai/Projects/migration/llama_index/llama-index-integrations/readers/llama-index-readers-wikipedia\n",
      "/Users/nerdai/Projects/migration/llama_index/llama-index-integrations/readers/llama-index-readers-mongodb\n",
      "/Users/nerdai/Projects/migration/llama_index/llama-index-integrations/readers/llama-index-readers-notion\n",
      "/Users/nerdai/Projects/migration/llama_index/llama-index-integrations/readers/llama-index-readers-wordpress\n",
      "/Users/nerdai/Projects/migration/llama_index/llama-index-integrations/readers/llama-index-readers-airbyte-typeform\n",
      "/Users/nerdai/Projects/migration/llama_index/llama-index-integrations/readers/llama-index-readers-airbyte-zendesk-support\n",
      "/Users/nerdai/Projects/migration/llama_index/llama-index-integrations/readers/llama-index-readers-firestore\n",
      "/Users/nerdai/Projects/migration/llama_index/llama-index-integrations/readers/llama-index-readers-microsoft-outlook\n",
      "/Users/nerdai/Projects/migration/llama_index/llama-index-integrations/readers/llama-index-readers-s3\n",
      "/Users/nerdai/Projects/migration/llama_index/llama-index-integrations/readers/llama-index-readers-semanticscholar\n",
      "/Users/nerdai/Projects/migration/llama_index/llama-index-integrations/readers/llama-index-readers-wordlift\n",
      "/Users/nerdai/Projects/migration/llama_index/llama-index-integrations/readers/llama-index-readers-spotify\n",
      "/Users/nerdai/Projects/migration/llama_index/llama-index-integrations/readers/llama-index-readers-airbyte-cdk\n",
      "/Users/nerdai/Projects/migration/llama_index/llama-index-integrations/readers/llama-index-readers-qdrant\n",
      "/Users/nerdai/Projects/migration/llama_index/llama-index-integrations/readers/llama-index-readers-feedly-rss\n",
      "/Users/nerdai/Projects/migration/llama_index/llama-index-integrations/readers/llama-index-readers-airbyte-shopify\n",
      "/Users/nerdai/Projects/migration/llama_index/llama-index-integrations/readers/llama-index-readers-elasticsearch\n",
      "/Users/nerdai/Projects/migration/llama_index/llama-index-integrations/readers/llama-index-readers-rayyan\n",
      "/Users/nerdai/Projects/migration/llama_index/llama-index-integrations/readers/llama-index-readers-firebase-realtimedb\n",
      "/Users/nerdai/Projects/migration/llama_index/llama-index-integrations/readers/llama-index-readers-remote-depth\n",
      "/Users/nerdai/Projects/migration/llama_index/llama-index-integrations/readers/llama-index-readers-make-com\n",
      "/Users/nerdai/Projects/migration/llama_index/llama-index-integrations/readers/llama-index-readers-arango-db\n",
      "/Users/nerdai/Projects/migration/llama_index/llama-index-integrations/readers/llama-index-readers-mangadex\n",
      "/Users/nerdai/Projects/migration/llama_index/llama-index-integrations/readers/llama-index-readers-intercom\n",
      "/Users/nerdai/Projects/migration/llama_index/llama-index-integrations/readers/llama-index-readers-airbyte-gong\n",
      "/Users/nerdai/Projects/migration/llama_index/llama-index-integrations/readers/llama-index-readers-reddit\n",
      "/Users/nerdai/Projects/migration/llama_index/llama-index-integrations/readers/llama-index-readers-faiss\n",
      "/Users/nerdai/Projects/migration/llama_index/llama-index-integrations/readers/llama-index-readers-dad-jokes\n",
      "/Users/nerdai/Projects/migration/llama_index/llama-index-integrations/readers/llama-index-readers-patentsview\n",
      "/Users/nerdai/Projects/migration/llama_index/llama-index-integrations/readers/llama-index-readers-myscale\n",
      "/Users/nerdai/Projects/migration/llama_index/llama-index-integrations/readers/llama-index-readers-guru\n",
      "/Users/nerdai/Projects/migration/llama_index/llama-index-integrations/readers/llama-index-readers-linear\n",
      "/Users/nerdai/Projects/migration/llama_index/llama-index-integrations/readers/llama-index-readers-telegram\n",
      "/Users/nerdai/Projects/migration/llama_index/llama-index-integrations/readers/llama-index-readers-steamship\n",
      "/Users/nerdai/Projects/migration/llama_index/llama-index-integrations/readers/llama-index-readers-maps\n",
      "/Users/nerdai/Projects/migration/llama_index/llama-index-integrations/readers/llama-index-readers-pathway\n",
      "/Users/nerdai/Projects/migration/llama_index/llama-index-integrations/readers/llama-index-readers-airbyte-hubspot\n",
      "/Users/nerdai/Projects/migration/llama_index/llama-index-integrations/readers/llama-index-readers-hatena-blog\n",
      "/Users/nerdai/Projects/migration/llama_index/llama-index-integrations/readers/llama-index-readers-sec-filings\n",
      "/Users/nerdai/Projects/migration/llama_index/llama-index-integrations/readers/llama-index-readers-joplin\n",
      "/Users/nerdai/Projects/migration/llama_index/llama-index-integrations/readers/llama-index-readers-graphql\n",
      "/Users/nerdai/Projects/migration/llama_index/llama-index-integrations/readers/llama-index-readers-bagel\n",
      "/Users/nerdai/Projects/migration/llama_index/llama-index-integrations/readers/llama-index-readers-preprocess\n",
      "/Users/nerdai/Projects/migration/llama_index/llama-index-integrations/readers/llama-index-readers-google\n",
      "/Users/nerdai/Projects/migration/llama_index/llama-index-integrations/readers/llama-index-readers-feishu-docs\n",
      "/Users/nerdai/Projects/migration/llama_index/llama-index-integrations/readers/llama-index-readers-couchbase\n",
      "/Users/nerdai/Projects/migration/llama_index/llama-index-integrations/readers/llama-index-readers-openalex\n",
      "/Users/nerdai/Projects/migration/llama_index/llama-index-integrations/readers/llama-index-readers-txtai\n",
      "/Users/nerdai/Projects/migration/llama_index/llama-index-integrations/readers/llama-index-readers-azcognitive-search\n",
      "/Users/nerdai/Projects/migration/llama_index/llama-index-integrations/readers/llama-index-readers-pinecone\n",
      "/Users/nerdai/Projects/migration/llama_index/llama-index-integrations/readers/llama-index-readers-pandas-ai\n",
      "/Users/nerdai/Projects/migration/llama_index/llama-index-integrations/readers/llama-index-readers-airtable\n",
      "/Users/nerdai/Projects/migration/llama_index/llama-index-integrations/readers/llama-index-readers-string-iterable\n",
      "/Users/nerdai/Projects/migration/llama_index/llama-index-integrations/readers/llama-index-readers-zulip\n",
      "/Users/nerdai/Projects/migration/llama_index/llama-index-integrations/readers/llama-index-readers-zendesk\n",
      "/Users/nerdai/Projects/migration/llama_index/llama-index-integrations/readers/llama-index-readers-bitbucket\n",
      "/Users/nerdai/Projects/migration/llama_index/llama-index-integrations/readers/llama-index-readers-web\n",
      "/Users/nerdai/Projects/migration/llama_index/llama-index-integrations/readers/llama-index-readers-hubspot\n",
      "/Users/nerdai/Projects/migration/llama_index/llama-index-integrations/readers/llama-index-readers-file\n",
      "/Users/nerdai/Projects/migration/llama_index/llama-index-integrations/readers/llama-index-readers-kaltura\n",
      "/Users/nerdai/Projects/migration/llama_index/llama-index-integrations/readers/llama-index-readers-awadb\n",
      "/Users/nerdai/Projects/migration/llama_index/llama-index-integrations/readers/llama-index-readers-imdb-review\n",
      "/Users/nerdai/Projects/migration/llama_index/llama-index-integrations/readers/llama-index-readers-opensearch\n",
      "/Users/nerdai/Projects/migration/llama_index/llama-index-integrations/readers/llama-index-readers-microsoft-sharepoint\n",
      "/Users/nerdai/Projects/migration/llama_index/llama-index-integrations/readers/llama-index-readers-minio\n",
      "/Users/nerdai/Projects/migration/llama_index/llama-index-integrations/readers/llama-index-readers-mangoapps-guides\n",
      "/Users/nerdai/Projects/migration/llama_index/llama-index-integrations/readers/llama-index-readers-gpt-repo\n",
      "/Users/nerdai/Projects/migration/llama_index/llama-index-integrations/readers/llama-index-readers-microsoft-onedrive\n",
      "/Users/nerdai/Projects/migration/llama_index/llama-index-integrations/readers/llama-index-readers-huggingface-fs\n",
      "/Users/nerdai/Projects/migration/llama_index/llama-index-integrations/readers/llama-index-readers-weaviate\n",
      "/Users/nerdai/Projects/migration/llama_index/llama-index-integrations/readers/llama-index-readers-deeplake\n",
      "/Users/nerdai/Projects/migration/llama_index/llama-index-integrations/readers/llama-index-readers-whatsapp\n",
      "/Users/nerdai/Projects/migration/llama_index/llama-index-integrations/readers/llama-index-readers-mondaydotcom\n",
      "/Users/nerdai/Projects/migration/llama_index/llama-index-integrations/readers/llama-index-readers-airbyte-stripe\n",
      "/Users/nerdai/Projects/migration/llama_index/llama-index-integrations/readers/llama-index-readers-snscrape-twitter\n",
      "/Users/nerdai/Projects/migration/llama_index/llama-index-integrations/readers/llama-index-readers-papers\n",
      "/Users/nerdai/Projects/migration/llama_index/llama-index-integrations/readers/llama-index-readers-obsidian\n",
      "/Users/nerdai/Projects/migration/llama_index/llama-index-integrations/readers/llama-index-readers-zep\n",
      "/Users/nerdai/Projects/migration/llama_index/llama-index-integrations/readers/llama-index-readers-memos\n",
      "/Users/nerdai/Projects/migration/llama_index/llama-index-integrations/readers/llama-index-readers-psychic\n",
      "/Users/nerdai/Projects/migration/llama_index/llama-index-integrations/readers/llama-index-readers-chroma\n",
      "/Users/nerdai/Projects/migration/llama_index/llama-index-integrations/readers/llama-index-readers-weather\n",
      "/Users/nerdai/Projects/migration/llama_index/llama-index-integrations/readers/llama-index-readers-chatgpt-plugin\n",
      "/Users/nerdai/Projects/migration/llama_index/llama-index-integrations/readers/llama-index-readers-hwp\n",
      "/Users/nerdai/Projects/migration/llama_index/llama-index-integrations/readers/llama-index-readers-redis\n",
      "/Users/nerdai/Projects/migration/llama_index/llama-index-integrations/readers/llama-index-readers-metal\n",
      "/Users/nerdai/Projects/migration/llama_index/llama-index-integrations/readers/llama-index-readers-boarddocs\n",
      "/Users/nerdai/Projects/migration/llama_index/llama-index-integrations/question_gen/llama-index-question-gen-guidance\n",
      "/Users/nerdai/Projects/migration/llama_index/llama-index-integrations/question_gen/llama-index-question-gen-openai\n",
      "/Users/nerdai/Projects/migration/llama_index/llama-index-integrations/llms/llama-index-llms-palm\n",
      "/Users/nerdai/Projects/migration/llama_index/llama-index-integrations/llms/llama-index-llms-watsonx\n",
      "/Users/nerdai/Projects/migration/llama_index/llama-index-integrations/llms/llama-index-llms-cohere\n",
      "/Users/nerdai/Projects/migration/llama_index/llama-index-integrations/llms/llama-index-llms-nvidia-triton\n",
      "/Users/nerdai/Projects/migration/llama_index/llama-index-integrations/llms/llama-index-llms-ai21\n",
      "/Users/nerdai/Projects/migration/llama_index/llama-index-integrations/llms/llama-index-llms-bedrock\n",
      "/Users/nerdai/Projects/migration/llama_index/llama-index-integrations/llms/llama-index-llms-huggingface\n",
      "/Users/nerdai/Projects/migration/llama_index/llama-index-integrations/llms/llama-index-llms-azure-openai\n",
      "/Users/nerdai/Projects/migration/llama_index/llama-index-integrations/llms/llama-index-llms-dashscope\n",
      "/Users/nerdai/Projects/migration/llama_index/llama-index-integrations/llms/llama-index-llms-nvidia-tensorrt\n",
      "/Users/nerdai/Projects/migration/llama_index/llama-index-integrations/llms/llama-index-llms-anthropic\n",
      "/Users/nerdai/Projects/migration/llama_index/llama-index-integrations/llms/llama-index-llms-gemini\n",
      "/Users/nerdai/Projects/migration/llama_index/llama-index-integrations/llms/llama-index-llms-clarifai\n",
      "/Users/nerdai/Projects/migration/llama_index/llama-index-integrations/llms/llama-index-llms-llama-api\n",
      "/Users/nerdai/Projects/migration/llama_index/llama-index-integrations/llms/llama-index-llms-llama-cpp\n",
      "/Users/nerdai/Projects/migration/llama_index/llama-index-integrations/llms/llama-index-llms-perplexity\n",
      "/Users/nerdai/Projects/migration/llama_index/llama-index-integrations/llms/llama-index-llms-rungpt\n",
      "/Users/nerdai/Projects/migration/llama_index/llama-index-integrations/llms/llama-index-llms-replicate\n",
      "/Users/nerdai/Projects/migration/llama_index/llama-index-integrations/llms/llama-index-llms-openai-like\n",
      "/Users/nerdai/Projects/migration/llama_index/llama-index-integrations/llms/llama-index-llms-konko\n",
      "/Users/nerdai/Projects/migration/llama_index/llama-index-integrations/llms/llama-index-llms-openllm\n",
      "/Users/nerdai/Projects/migration/llama_index/llama-index-integrations/llms/llama-index-llms-litellm\n",
      "/Users/nerdai/Projects/migration/llama_index/llama-index-integrations/llms/llama-index-llms-sagemaker-endpoint\n",
      "/Users/nerdai/Projects/migration/llama_index/llama-index-integrations/llms/llama-index-llms-portkey\n",
      "/Users/nerdai/Projects/migration/llama_index/llama-index-integrations/llms/llama-index-llms-vllm\n",
      "/Users/nerdai/Projects/migration/llama_index/llama-index-integrations/llms/llama-index-llms-neutrino\n",
      "/Users/nerdai/Projects/migration/llama_index/llama-index-integrations/llms/llama-index-llms-monsterapi\n",
      "/Users/nerdai/Projects/migration/llama_index/llama-index-integrations/llms/llama-index-llms-predibase\n",
      "/Users/nerdai/Projects/migration/llama_index/llama-index-integrations/llms/llama-index-llms-xinference\n",
      "/Users/nerdai/Projects/migration/llama_index/llama-index-integrations/llms/llama-index-llms-mistralai\n",
      "/Users/nerdai/Projects/migration/llama_index/llama-index-integrations/llms/llama-index-llms-anyscale\n",
      "/Users/nerdai/Projects/migration/llama_index/llama-index-integrations/llms/llama-index-llms-vertex\n",
      "/Users/nerdai/Projects/migration/llama_index/llama-index-integrations/llms/llama-index-llms-localai\n",
      "/Users/nerdai/Projects/migration/llama_index/llama-index-integrations/llms/llama-index-llms-together\n",
      "/Users/nerdai/Projects/migration/llama_index/llama-index-integrations/llms/llama-index-llms-ollama\n",
      "/Users/nerdai/Projects/migration/llama_index/llama-index-integrations/llms/llama-index-llms-langchain\n",
      "/Users/nerdai/Projects/migration/llama_index/llama-index-integrations/llms/llama-index-llms-everlyai\n",
      "/Users/nerdai/Projects/migration/llama_index/llama-index-integrations/llms/llama-index-llms-openrouter\n",
      "/Users/nerdai/Projects/migration/llama_index/llama-index-integrations/llms/llama-index-llms-openai\n",
      "/Users/nerdai/Projects/migration/llama_index/llama-index-integrations/llms/llama-index-llms-gradient\n",
      "/Users/nerdai/Projects/migration/llama_index/llama-index-integrations/extractors/llama-index-extractors-entity\n",
      "/Users/nerdai/Projects/migration/llama_index/llama-index-integrations/extractors/llama-index-extractors-marvin\n",
      "/Users/nerdai/Projects/migration/llama_index/llama-index-core\n",
      "\n"
     ]
    }
   ],
   "source": [
    "_init_csv()\n",
    "for package in packages:\n",
    "    print(package)\n",
    "    if package.endswith(\"llama_index\") or package.endswith(\"llama-index-core\") or package.endswith(\"llama-index-legacy\") or not package:\n",
    "        continue\n",
    "\n",
    "    toml_path = os.path.join(package, \"pyproject.toml\")\n",
    "    pyproject = toml.load(toml_path)\n",
    "    name = pyproject['tool']['poetry']['name']\n",
    "    version = pyproject['tool']['poetry']['version']\n",
    "\n",
    "    namespaces = _get_namespaces(package)\n",
    "    parent_module = os.path.join(*namespaces[:-1]).replace(\"/\", \".\")\n",
    "    pypi = f\"https://pypi.org/project/{name}/\"\n",
    "\n",
    "    all_imports = _get_all_imports(package, namespaces)\n",
    "    classes = \" ◦ \".join(f\"{el}\" for el in all_imports)\n",
    "    github_path = package.split(\"llama_index/\")[-1]\n",
    "    github = f\"https://github.com/nerdai/llama_index/tree/nerdai/migration-v0_10_0/{github_path}\"\n",
    "\n",
    "    with open(\"llamaindex_packages.csv\", \"a\") as f:\n",
    "        f.write(f\"{name},{version},{parent_module},{classes},{pypi},{github}\\n\")"
   ]
  },
  {
   "cell_type": "code",
   "execution_count": 183,
   "id": "12cf09f0-e797-453f-beae-c91d56b41edf",
   "metadata": {},
   "outputs": [
    {
     "data": {
      "text/plain": [
       "''"
      ]
     },
     "execution_count": 183,
     "metadata": {},
     "output_type": "execute_result"
    }
   ],
   "source": [
    "package"
   ]
  },
  {
   "cell_type": "code",
   "execution_count": 182,
   "id": "cba3025d-3cae-4002-aee9-0c46682645b4",
   "metadata": {},
   "outputs": [
    {
     "data": {
      "text/plain": [
       "'pyproject.toml'"
      ]
     },
     "execution_count": 182,
     "metadata": {},
     "output_type": "execute_result"
    }
   ],
   "source": [
    "toml_path"
   ]
  },
  {
   "cell_type": "code",
   "execution_count": 178,
   "id": "a370be25-960f-4bb7-a9e2-5748e7693c25",
   "metadata": {},
   "outputs": [
    {
     "data": {
      "text/plain": [
       "'_  [\"ApifyActor\", \"ApifyDataset\"]\\n'"
      ]
     },
     "execution_count": 178,
     "metadata": {},
     "output_type": "execute_result"
    }
   ],
   "source": [
    "init.split(\"__all__\")[-1].replace(\"=\",\"\")"
   ]
  },
  {
   "cell_type": "code",
   "execution_count": 164,
   "id": "863e6671-e3cd-4366-afdc-d809fb40fa13",
   "metadata": {},
   "outputs": [
    {
     "data": {
      "text/plain": [
       "['llama_index', 'packs', 'tables']"
      ]
     },
     "execution_count": 164,
     "metadata": {},
     "output_type": "execute_result"
    }
   ],
   "source": [
    "package = \"/Users/nerdai/Projects/migration/llama_index/llama-index-packs/llama-index-packs-tables\"\n",
    "_get_namespaces(package)"
   ]
  },
  {
   "cell_type": "code",
   "execution_count": 163,
   "id": "f23294db-a545-415c-9b6e-4aa8e806d173",
   "metadata": {},
   "outputs": [],
   "source": [
    "walker = os.walk(os.path.join(package, \"llama_index\"))\n",
    "namespaces = [\"llama_index\"]"
   ]
  },
  {
   "cell_type": "code",
   "execution_count": 160,
   "id": "6124b926-b336-4754-bce5-369719c370ef",
   "metadata": {},
   "outputs": [
    {
     "data": {
      "text/plain": [
       "['llama_index']"
      ]
     },
     "execution_count": 160,
     "metadata": {},
     "output_type": "execute_result"
    }
   ],
   "source": [
    "namespaces"
   ]
  },
  {
   "cell_type": "code",
   "execution_count": 150,
   "id": "caf42c86-76ff-4f2b-8e48-25dd9b4d836e",
   "metadata": {},
   "outputs": [
    {
     "data": {
      "text/plain": [
       "('/Users/nerdai/Projects/migration/llama_index/llama-index-packs/llama-index-packs-tables/llama_index',\n",
       " ['packs'],\n",
       " [])"
      ]
     },
     "execution_count": 150,
     "metadata": {},
     "output_type": "execute_result"
    }
   ],
   "source": [
    "next(walker)"
   ]
  },
  {
   "cell_type": "code",
   "execution_count": 151,
   "id": "00949f4c-7222-4561-8948-d2b170ad9dd1",
   "metadata": {},
   "outputs": [
    {
     "data": {
      "text/plain": [
       "('/Users/nerdai/Projects/migration/llama_index/llama-index-packs/llama-index-packs-tables/llama_index/packs',\n",
       " ['tables'],\n",
       " [])"
      ]
     },
     "execution_count": 151,
     "metadata": {},
     "output_type": "execute_result"
    }
   ],
   "source": [
    "next(walker)"
   ]
  },
  {
   "cell_type": "code",
   "execution_count": 152,
   "id": "ce8a2342-1fb4-4c1e-b64d-b360dd438781",
   "metadata": {},
   "outputs": [
    {
     "data": {
      "text/plain": [
       "('/Users/nerdai/Projects/migration/llama_index/llama-index-packs/llama-index-packs-tables/llama_index/packs/tables',\n",
       " ['mix_self_consistency', 'chain_of_table'],\n",
       " ['__init__.py'])"
      ]
     },
     "execution_count": 152,
     "metadata": {},
     "output_type": "execute_result"
    }
   ],
   "source": [
    "next(walker)"
   ]
  },
  {
   "cell_type": "code",
   "execution_count": null,
   "id": "73c1ef3e-ff1e-4f5e-a939-785ad7835f54",
   "metadata": {},
   "outputs": [],
   "source": []
  }
 ],
 "metadata": {
  "kernelspec": {
   "display_name": "migration-tools",
   "language": "python",
   "name": "migration-tools"
  },
  "language_info": {
   "codemirror_mode": {
    "name": "ipython",
    "version": 3
   },
   "file_extension": ".py",
   "mimetype": "text/x-python",
   "name": "python",
   "nbconvert_exporter": "python",
   "pygments_lexer": "ipython3",
   "version": "3.10.13"
  }
 },
 "nbformat": 4,
 "nbformat_minor": 5
}
