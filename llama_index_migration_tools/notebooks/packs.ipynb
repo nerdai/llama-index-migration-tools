{
 "cells": [
  {
   "cell_type": "markdown",
   "id": "d6e749a2-b003-4175-917f-4461d21a278e",
   "metadata": {},
   "source": [
    "## Bringing Packs into Main llama-index"
   ]
  },
  {
   "cell_type": "code",
   "execution_count": 1,
   "id": "335b0139-3434-4eca-b310-5007ca2dfe59",
   "metadata": {},
   "outputs": [],
   "source": [
    "class cd:\n",
    "    \"\"\"Context manager for changing the current working directory\"\"\"\n",
    "    def __init__(self, newPath):\n",
    "        self.newPath = os.path.expanduser(newPath)\n",
    "\n",
    "    def __enter__(self):\n",
    "        self.savedPath = os.getcwd()\n",
    "        os.chdir(self.newPath)\n",
    "\n",
    "    def __exit__(self, etype, value, traceback):\n",
    "        os.chdir(self.savedPath)\n",
    "\n",
    "IGNORE_LIST = [\n",
    "    \"__init__.py\",\n",
    "    \"__pycache__\",\n",
    "    \"loading.py\",\n",
    "    \"base.py\",\n",
    "    \"README.md\",\n",
    "    \".DS_Store\",\n",
    "    \"library.json\"\n",
    "]\n",
    "\n",
    "import os\n",
    "from pathlib import Path\n",
    "import shutil\n",
    "from os import listdir\n",
    "from os.path import isfile, join"
   ]
  },
  {
   "cell_type": "code",
   "execution_count": 2,
   "id": "b757ae92-bee6-4955-b59d-02423dcef962",
   "metadata": {},
   "outputs": [
    {
     "data": {
      "text/plain": [
       "['agent_search_retriever',\n",
       " 'agents',\n",
       " 'amazon_product_extraction',\n",
       " 'arize_phoenix_query_engine',\n",
       " 'auto_merging_retriever',\n",
       " 'chroma_autoretrieval',\n",
       " 'cogniswitch_agent',\n",
       " 'deeplake_deepmemory_retriever',\n",
       " 'deeplake_multimodal_retrieval',\n",
       " 'dense_x_retrieval',\n",
       " 'evaluator_benchmarker',\n",
       " 'fusion_retriever',\n",
       " 'fuzzy_citation',\n",
       " 'gmail_openai_agent',\n",
       " 'gradio_agent_chat',\n",
       " 'gradio_react_agent_chatbot',\n",
       " 'llama_dataset_metadata',\n",
       " 'llama_guard_moderator',\n",
       " 'llava_completion',\n",
       " 'multi_document_agents',\n",
       " 'multi_tenancy_rag',\n",
       " 'multidoc_autoretrieval',\n",
       " 'nebulagraph_query_engine',\n",
       " 'neo4j_query_engine',\n",
       " 'node_parser',\n",
       " 'ollama_query_engine',\n",
       " 'panel_chatbot',\n",
       " 'query',\n",
       " 'rag_evaluator',\n",
       " 'ragatouille_retriever',\n",
       " 'recursive_retriever',\n",
       " 'redis_ingestion_pipeline',\n",
       " 'resume_screener',\n",
       " 'retry_engine_weaviate',\n",
       " 'sentence_window_retriever',\n",
       " 'snowflake_query_engine',\n",
       " 'stock_market_data_query_engine',\n",
       " 'streamlit_chatbot',\n",
       " 'sub_question_weaviate',\n",
       " 'tables',\n",
       " 'timescale_vector_autoretrieval',\n",
       " 'trulens_eval_packs',\n",
       " 'vectara_rag',\n",
       " 'voyage_query_engine',\n",
       " 'zephyr_query_engine']"
      ]
     },
     "execution_count": 2,
     "metadata": {},
     "output_type": "execute_result"
    }
   ],
   "source": [
    "llama_hub_path = f\"/Users/nerdai/Projects/llama-hub/llama_hub/llama_packs\"\n",
    "llama_hub = [el for el in listdir(llama_hub_path) if el not in IGNORE_LIST]\n",
    "packs = sorted(llama_hub)\n",
    "packs"
   ]
  },
  {
   "cell_type": "code",
   "execution_count": 5,
   "id": "8a2323d7-6d5e-4172-af10-74e4828ae905",
   "metadata": {},
   "outputs": [],
   "source": [
    "from llama_index_migration_tools.main_hub import main_hub\n",
    "\n",
    "run = False\n",
    "\n",
    "handle_manually = []\n",
    "extensions_path = \"/Users/nerdai/Projects/forks/llama_index/llama-index-packs\"\n",
    "\n",
    "if run:\n",
    "    for name in packs[1:]:\n",
    "        hub_path = f\"{llama_hub_path}/{name}\"\n",
    "        # enter the directory like this:\n",
    "        with cd(extensions_path):\n",
    "            try:\n",
    "                main_hub(integration_name=name, integration_type=\"packs\", hub_path=hub_path)\n",
    "            except FileNotFoundError as e:\n",
    "                handle_manually.append(name)"
   ]
  },
  {
   "cell_type": "code",
   "execution_count": 6,
   "id": "bc078a50-5f0d-4873-a079-ef65c15c9856",
   "metadata": {},
   "outputs": [],
   "source": [
    "# ['agents',\n",
    " # 'fusion_retriever',\n",
    " # 'node_parser',\n",
    " # 'query',\n",
    " # 'ragatouille_retriever',\n",
    " # 'recursive_retriever',\n",
    " # 'tables']"
   ]
  },
  {
   "cell_type": "code",
   "execution_count": 4,
   "id": "49140a13-56bc-4dcb-819c-010d175873ab",
   "metadata": {},
   "outputs": [
    {
     "data": {
      "text/plain": [
       "['agents',\n",
       " 'fusion_retriever',\n",
       " 'node_parser',\n",
       " 'query',\n",
       " 'ragatouille_retriever',\n",
       " 'recursive_retriever',\n",
       " 'tables']"
      ]
     },
     "execution_count": 4,
     "metadata": {},
     "output_type": "execute_result"
    }
   ],
   "source": [
    "handle_manually"
   ]
  },
  {
   "cell_type": "code",
   "execution_count": null,
   "id": "5d580fe5-d554-4b15-ba74-18533143a3ea",
   "metadata": {},
   "outputs": [],
   "source": []
  }
 ],
 "metadata": {
  "kernelspec": {
   "display_name": "migration-tools",
   "language": "python",
   "name": "migration-tools"
  },
  "language_info": {
   "codemirror_mode": {
    "name": "ipython",
    "version": 3
   },
   "file_extension": ".py",
   "mimetype": "text/x-python",
   "name": "python",
   "nbconvert_exporter": "python",
   "pygments_lexer": "ipython3",
   "version": "3.10.13"
  }
 },
 "nbformat": 4,
 "nbformat_minor": 5
}
