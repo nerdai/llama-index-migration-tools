{
 "cells": [
  {
   "cell_type": "code",
   "execution_count": 1,
   "id": "7df2ec68-2cf2-48d1-b215-5339b365703c",
   "metadata": {},
   "outputs": [],
   "source": [
    "import os\n",
    "import json\n",
    "from os import listdir\n",
    "import toml"
   ]
  },
  {
   "cell_type": "code",
   "execution_count": 19,
   "id": "cbd603a7-9a45-42e9-8991-9a183f66f8e6",
   "metadata": {},
   "outputs": [],
   "source": [
    "with open(\"/Users/nerdai/Projects/llama_index/llamaindex_registry.txt\", \"r\") as f:\n",
    "    list = f.read().split('\\n')"
   ]
  },
  {
   "cell_type": "code",
   "execution_count": 20,
   "id": "556e2f26-2661-4659-a5f0-1410f111fa78",
   "metadata": {},
   "outputs": [],
   "source": [
    "IGNORE_LIST = [\n",
    "    \"/Users/nerdai/Projects/llama_index/llama-index-experimental\",\n",
    "    \"/Users/nerdai/Projects/llama_index/llama-index-core\",\n",
    "    \"/Users/nerdai/Projects/llama_index\",\n",
    "    \"/Users/nerdai/Projects/llama_index/llama-index-legacy\",\n",
    "    \"/Users/nerdai/Projects/llama_index/llama-index-finetuning\",\n",
    "    \"/Users/nerdai/Projects/llama_index/llama-index-cli\",\n",
    "    \"/Users/nerdai/Projects/llama_index/llama-index-core/notebooks/pack\"\n",
    "]"
   ]
  },
  {
   "cell_type": "code",
   "execution_count": 21,
   "id": "9447d6ce-685d-4a97-802a-59c5e7d51723",
   "metadata": {},
   "outputs": [],
   "source": [
    "for package in list:\n",
    "    if not package:\n",
    "        continue\n",
    "    if package in IGNORE_LIST:\n",
    "        continue\n",
    "    toml_path = os.path.join(package, \"pyproject.toml\")\n",
    "    pyproject = toml.load(toml_path)\n",
    "    if \"class_authors\" not in pyproject['tool']['llamahub']:\n",
    "        print(f\"Missing class_authors in {package}\\n\")"
   ]
  },
  {
   "cell_type": "code",
   "execution_count": null,
   "id": "40063590-1da3-4fd8-93c6-9504c76c2ec0",
   "metadata": {},
   "outputs": [],
   "source": []
  }
 ],
 "metadata": {
  "kernelspec": {
   "display_name": "migration-tools",
   "language": "python",
   "name": "migration-tools"
  },
  "language_info": {
   "codemirror_mode": {
    "name": "ipython",
    "version": 3
   },
   "file_extension": ".py",
   "mimetype": "text/x-python",
   "name": "python",
   "nbconvert_exporter": "python",
   "pygments_lexer": "ipython3",
   "version": "3.10.13"
  }
 },
 "nbformat": 4,
 "nbformat_minor": 5
}
