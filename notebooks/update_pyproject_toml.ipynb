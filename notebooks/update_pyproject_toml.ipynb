{
 "cells": [
  {
   "cell_type": "code",
   "execution_count": 70,
   "id": "eeb5706d-d1be-4723-a04b-d2d04f2ab8b2",
   "metadata": {},
   "outputs": [],
   "source": [
    "import toml\n",
    "import os\n",
    "import json"
   ]
  },
  {
   "cell_type": "markdown",
   "id": "a76d9940-f10b-45be-8f63-9dd6ef3f566d",
   "metadata": {},
   "source": [
    "## Create Version Registry"
   ]
  },
  {
   "cell_type": "code",
   "execution_count": 13,
   "id": "ecbe2160-2237-4877-b1e6-4b0625b09310",
   "metadata": {},
   "outputs": [],
   "source": [
    "with open(\"/Users/nerdai/Projects/migration/llama_index/llamaindex_registry.txt\", \"r\") as f:\n",
    "    list = f.read().split('\\n')"
   ]
  },
  {
   "cell_type": "code",
   "execution_count": 14,
   "id": "1d698c94-0b7f-43ec-8387-e967868f2aba",
   "metadata": {},
   "outputs": [
    {
     "data": {
      "text/plain": [
       "['/Users/nerdai/Projects/migration/llama_index/llama-index-experimental',\n",
       " '/Users/nerdai/Projects/migration/llama_index/llama-index-legacy',\n",
       " '/Users/nerdai/Projects/migration/llama_index',\n",
       " '/Users/nerdai/Projects/migration/llama_index/llama-index-packs/llama-index-packs-retry-engine-weaviate',\n",
       " '/Users/nerdai/Projects/migration/llama_index/llama-index-packs/llama-index-packs-llava-completion']"
      ]
     },
     "execution_count": 14,
     "metadata": {},
     "output_type": "execute_result"
    }
   ],
   "source": [
    "list[:5]"
   ]
  },
  {
   "cell_type": "code",
   "execution_count": 61,
   "id": "f42f8ab9-7b17-41da-ada9-416c7b73dbf7",
   "metadata": {
    "scrolled": true
   },
   "outputs": [],
   "source": [
    "version_registry = {}\n",
    "for package in list:\n",
    "    if not package:\n",
    "        continue\n",
    "    toml_path = os.path.join(package, \"pyproject.toml\")\n",
    "    pyproject = toml.load(toml_path)\n",
    "    name = pyproject[\"tool\"][\"poetry\"][\"name\"]\n",
    "    version_registry[name] = \"0.1.0\""
   ]
  },
  {
   "cell_type": "code",
   "execution_count": 65,
   "id": "52a386c1-f64d-4495-af82-226f5b2ed490",
   "metadata": {},
   "outputs": [],
   "source": [
    "# defaults\n",
    "EXCEPTIONS = {\n",
    "    \"llama-index-legacy\": \"0.9.47\",\n",
    "    \"llama-index-test-starter\": \"0.10.0\",\n",
    "    \"llama-index-core\": \"0.10.0\",\n",
    "}\n",
    "\n",
    "for k, v in EXCEPTIONS.items():\n",
    "    version_registry[k] = v"
   ]
  },
  {
   "cell_type": "code",
   "execution_count": 68,
   "id": "86562da7-1f19-4e05-b33a-d315d6c44353",
   "metadata": {},
   "outputs": [
    {
     "name": "stdout",
     "output_type": "stream",
     "text": [
      "llama-index-legacy 0.9.47\n",
      "llama-index-test-starter 0.10.0\n",
      "llama-index-core 0.10.0\n"
     ]
    }
   ],
   "source": [
    "for k in EXCEPTIONS.keys():\n",
    "    print(k, version_registry[k])"
   ]
  },
  {
   "cell_type": "code",
   "execution_count": 71,
   "id": "e6ce49e9-5e62-4c21-ae54-cf62926693f8",
   "metadata": {},
   "outputs": [],
   "source": [
    "with open(\"version_registry.json\", \"w\") as f:\n",
    "    json.dump(version_registry, f)"
   ]
  },
  {
   "cell_type": "markdown",
   "id": "bb40454f-9602-4b3d-bfa2-83550e116f75",
   "metadata": {},
   "source": [
    "### Write Updated TOML"
   ]
  },
  {
   "cell_type": "code",
   "execution_count": 51,
   "id": "5acaf93f-c6f5-42ea-a7ae-ee333016b4b4",
   "metadata": {},
   "outputs": [],
   "source": [
    "pyproject = toml.load(toml_path)\n",
    "pyproject[\"tool\"][\"poetry\"][\"version\"] = \"0.1.0\""
   ]
  },
  {
   "cell_type": "code",
   "execution_count": 55,
   "id": "c04ba3ab-7e02-44cc-b30d-ca895d0fa32e",
   "metadata": {},
   "outputs": [
    {
     "data": {
      "text/plain": [
       "{'python': '>=3.8.1,<3.12',\n",
       " 'llama-index-core': '^0.9.32',\n",
       " 'weaviate-client': '^3.26.2',\n",
       " 'llama-index-vector-stores-weaviate': '^0.1.0'}"
      ]
     },
     "execution_count": 55,
     "metadata": {},
     "output_type": "execute_result"
    }
   ],
   "source": [
    "pyproject[\"tool\"][\"poetry\"][\"dependencies\"]"
   ]
  },
  {
   "cell_type": "code",
   "execution_count": 52,
   "id": "82680892-6c98-4073-808f-a1ec349a9b34",
   "metadata": {},
   "outputs": [
    {
     "name": "stdout",
     "output_type": "stream",
     "text": [
      "[build-system]\n",
      "build-backend = \"poetry.core.masonry.api\"\n",
      "requires = [ \"poetry-core\",]\n",
      "\n",
      "[tool.codespell]\n",
      "check-filenames = true\n",
      "check-hidden = true\n",
      "skip = \"*.csv,*.html,*.json,*.jsonl,*.pdf,*.txt,*.ipynb\"\n",
      "\n",
      "[tool.mypy]\n",
      "disallow_untyped_defs = true\n",
      "exclude = [ \"_static\", \"build\", \"examples\", \"notebooks\", \"venv\",]\n",
      "ignore_missing_imports = true\n",
      "python_version = \"3.8\"\n",
      "\n",
      "[tool.poetry]\n",
      "authors = [ \"Your Name <you@example.com>\",]\n",
      "description = \"llama-index packs retry_engine_weaviate integration\"\n",
      "license = \"MIT\"\n",
      "name = \"llama-index-packs-retry-engine-weaviate\"\n",
      "readme = \"README.md\"\n",
      "version = \"0.1.0\"\n",
      "[[tool.poetry.packages]]\n",
      "include = \"llama_index/\"\n",
      "\n",
      "[tool.poetry.dependencies]\n",
      "python = \">=3.8.1,<3.12\"\n",
      "llama-index-core = \"^0.9.32\"\n",
      "weaviate-client = \"^3.26.2\"\n",
      "llama-index-vector-stores-weaviate = \"^0.1.0\"\n",
      "\n",
      "[tool.poetry.group.dev.dependencies]\n",
      "ipython = \"8.10.0\"\n",
      "jupyter = \"^1.0.0\"\n",
      "mypy = \"0.991\"\n",
      "pre-commit = \"3.2.0\"\n",
      "pylint = \"2.15.10\"\n",
      "pytest = \"7.2.1\"\n",
      "pytest-mock = \"3.11.1\"\n",
      "ruff = \"0.0.292\"\n",
      "tree-sitter-languages = \"^1.8.0\"\n",
      "types-Deprecated = \">=0.1.0\"\n",
      "types-PyYAML = \"^6.0.12.12\"\n",
      "types-protobuf = \"^4.24.0.4\"\n",
      "types-redis = \"4.5.5.0\"\n",
      "types-requests = \"2.28.11.8\"\n",
      "types-setuptools = \"67.1.0.0\"\n",
      "\n",
      "[tool.poetry.group.dev.dependencies.black]\n",
      "extras = [ \"jupyter\",]\n",
      "version = \"<=23.9.1,>=23.7.0\"\n",
      "\n",
      "[tool.poetry.group.dev.dependencies.codespell]\n",
      "extras = [ \"toml\",]\n",
      "version = \">=v2.2.6\"\n",
      "\n"
     ]
    }
   ],
   "source": [
    "pyproject_str = toml.dumps(pyproject)\n",
    "print(pyproject_str)"
   ]
  },
  {
   "cell_type": "code",
   "execution_count": 52,
   "id": "770c62d0-10a6-4ded-9b01-08c90720a012",
   "metadata": {},
   "outputs": [],
   "source": [
    "with open(toml_path, \"w\") as f:\n",
    "    toml.dump(pyproject, f)"
   ]
  },
  {
   "cell_type": "code",
   "execution_count": 29,
   "id": "e04f27b6-de48-42e2-bcd0-1d1acec12b05",
   "metadata": {},
   "outputs": [],
   "source": [
    "package = list[3]\n",
    "toml_path = os.path.join(package, \"pyproject.toml\")"
   ]
  },
  {
   "cell_type": "code",
   "execution_count": 30,
   "id": "1cce4f26-f5fe-43a0-a1e3-43a946498e68",
   "metadata": {},
   "outputs": [
    {
     "data": {
      "text/plain": [
       "'/Users/nerdai/Projects/migration/llama_index/llama-index-packs/llama-index-packs-retry-engine-weaviate/pyproject.toml'"
      ]
     },
     "execution_count": 30,
     "metadata": {},
     "output_type": "execute_result"
    }
   ],
   "source": [
    "toml_path"
   ]
  },
  {
   "cell_type": "code",
   "execution_count": 33,
   "id": "d144fb80-522d-4935-81eb-26b03f7d551a",
   "metadata": {},
   "outputs": [
    {
     "name": "stdout",
     "output_type": "stream",
     "text": [
      "[build-system]\n",
      "build-backend = \"poetry.core.masonry.api\"\n",
      "requires = [\"poetry-core\"]\n",
      "\n",
      "[tool.codespell]\n",
      "check-filenames = true\n",
      "check-hidden = true\n",
      "# Feel free to un-skip examples, and experimental, you will just need to\n",
      "# work through many typos (--write-changes and --interactive will help)\n",
      "skip = \"*.csv,*.html,*.json,*.jsonl,*.pdf,*.txt,*.ipynb\"\n",
      "\n",
      "[tool.mypy]\n",
      "disallow_untyped_defs = true\n",
      "# Remove venv skip when integrated with pre-commit\n",
      "exclude = [\"_static\", \"build\", \"examples\", \"notebooks\", \"venv\"]\n",
      "ignore_missing_imports = true\n",
      "python_version = \"3.8\"\n",
      "\n",
      "[tool.poetry]\n",
      "authors = [\"Your Name <you@example.com>\"]\n",
      "description = \"llama-index packs retry_engine_weaviate integration\"\n",
      "license = \"MIT\"\n",
      "name = \"llama-index-packs-retry-engine-weaviate\"\n",
      "packages = [{include = \"llama_index/\"}]\n",
      "readme = \"README.md\"\n",
      "version = \"0.0.1\"\n",
      "\n",
      "[tool.poetry.dependencies]\n",
      "python = \">=3.8.1,<3.12\"\n",
      "llama-index-core = \"^0.9.32\"\n",
      "weaviate-client = \"^3.26.2\"\n",
      "llama-index-vector-stores-weaviate = \"^0.1.0\"\n",
      "\n",
      "[tool.poetry.group.dev.dependencies]\n",
      "black = {extras = [\"jupyter\"], version = \"<=23.9.1,>=23.7.0\"}\n",
      "codespell = {extras = [\"toml\"], version = \">=v2.2.6\"}\n",
      "ipython = \"8.10.0\"\n",
      "jupyter = \"^1.0.0\"\n",
      "mypy = \"0.991\"\n",
      "pre-commit = \"3.2.0\"\n",
      "pylint = \"2.15.10\"\n",
      "pytest = \"7.2.1\"\n",
      "pytest-mock = \"3.11.1\"\n",
      "ruff = \"0.0.292\"\n",
      "tree-sitter-languages = \"^1.8.0\"\n",
      "types-Deprecated = \">=0.1.0\"\n",
      "types-PyYAML = \"^6.0.12.12\"\n",
      "types-protobuf = \"^4.24.0.4\"\n",
      "types-redis = \"4.5.5.0\"\n",
      "types-requests = \"2.28.11.8\"  # TODO: unpin when mypy>0.991\n",
      "types-setuptools = \"67.1.0.0\"\n",
      "\n"
     ]
    }
   ],
   "source": [
    "with open(toml_path, \"r\") as f:\n",
    "    pyproject = f.read().split(\"\\n\")\n",
    "   \n",
    "for line in pyproject:\n",
    "    print(line)"
   ]
  },
  {
   "cell_type": "code",
   "execution_count": null,
   "id": "f42fe925-9325-409a-834b-deff206c8ead",
   "metadata": {},
   "outputs": [],
   "source": []
  }
 ],
 "metadata": {
  "kernelspec": {
   "display_name": "migration-tools",
   "language": "python",
   "name": "migration-tools"
  },
  "language_info": {
   "codemirror_mode": {
    "name": "ipython",
    "version": 3
   },
   "file_extension": ".py",
   "mimetype": "text/x-python",
   "name": "python",
   "nbconvert_exporter": "python",
   "pygments_lexer": "ipython3",
   "version": "3.10.13"
  }
 },
 "nbformat": 4,
 "nbformat_minor": 5
}
