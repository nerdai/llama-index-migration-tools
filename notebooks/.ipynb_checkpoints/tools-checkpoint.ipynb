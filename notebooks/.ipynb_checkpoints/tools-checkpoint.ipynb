{
 "cells": [
  {
   "cell_type": "markdown",
   "id": "e322550e-249b-4058-a549-96fe6e2ae13e",
   "metadata": {},
   "source": [
    "### Bringing LlamaHub Tools Into Main"
   ]
  },
  {
   "cell_type": "code",
   "execution_count": 1,
   "id": "ab11d52d-d826-40dd-aaf3-03c7599f98a6",
   "metadata": {},
   "outputs": [],
   "source": [
    "class cd:\n",
    "    \"\"\"Context manager for changing the current working directory\"\"\"\n",
    "    def __init__(self, newPath):\n",
    "        self.newPath = os.path.expanduser(newPath)\n",
    "\n",
    "    def __enter__(self):\n",
    "        self.savedPath = os.getcwd()\n",
    "        os.chdir(self.newPath)\n",
    "\n",
    "    def __exit__(self, etype, value, traceback):\n",
    "        os.chdir(self.savedPath)\n",
    "\n",
    "IGNORE_LIST = [\n",
    "    \"__init__.py\",\n",
    "    \"__pycache__\",\n",
    "    \"loading.py\",\n",
    "    \"base.py\",\n",
    "    \"README.md\"\n",
    "]\n",
    "\n",
    "import os\n",
    "from pathlib import Path\n",
    "import shutil\n",
    "from os import listdir\n",
    "from os.path import isfile, join"
   ]
  },
  {
   "cell_type": "code",
   "execution_count": 2,
   "id": "9c92f84a-7a1a-4dff-834b-300e452da72d",
   "metadata": {},
   "outputs": [
    {
     "data": {
      "text/plain": [
       "['download.py',\n",
       " 'function_tool.py',\n",
       " 'ondemand_loader_tool.py',\n",
       " 'query_engine.py',\n",
       " 'query_plan.py',\n",
       " 'retriever_tool.py',\n",
       " 'tool_spec',\n",
       " 'types.py',\n",
       " 'utils.py']"
      ]
     },
     "execution_count": 2,
     "metadata": {},
     "output_type": "execute_result"
    }
   ],
   "source": [
    "llama_index_path = f\"/Users/nerdai/Projects/forks/llama_index/llama-index-legacy/llama_index/legacy/tools\"\n",
    "llama_index = [el for el in listdir(llama_index_path) if el not in IGNORE_LIST]\n",
    "llama_index = sorted(llama_index)\n",
    "llama_index"
   ]
  },
  {
   "cell_type": "code",
   "execution_count": 3,
   "id": "5fcc4f9d-e768-4c6d-ac46-a19d19f44ee3",
   "metadata": {},
   "outputs": [
    {
     "data": {
      "text/plain": [
       "['arxiv',\n",
       " 'azure_cv',\n",
       " 'azure_speech',\n",
       " 'azure_translate',\n",
       " 'bing_search',\n",
       " 'chatgpt_plugin',\n",
       " 'code_interpreter',\n",
       " 'cogniswitch',\n",
       " 'database',\n",
       " 'gmail',\n",
       " 'google_calendar',\n",
       " 'google_search',\n",
       " 'graphql',\n",
       " 'library.json',\n",
       " 'metaphor',\n",
       " 'multion',\n",
       " 'neo4j_db',\n",
       " 'notebooks',\n",
       " 'notion',\n",
       " 'openai_image_generation',\n",
       " 'openapi',\n",
       " 'playgrounds_subgraph_connector',\n",
       " 'playgrounds_subgraph_inspector',\n",
       " 'python_file',\n",
       " 'requests',\n",
       " 'salesforce',\n",
       " 'shopify',\n",
       " 'slack',\n",
       " 'tavily_research',\n",
       " 'text_to_image',\n",
       " 'vector_db',\n",
       " 'waii',\n",
       " 'weather',\n",
       " 'wikipedia',\n",
       " 'wolfram_alpha',\n",
       " 'yelp',\n",
       " 'zapier']"
      ]
     },
     "execution_count": 3,
     "metadata": {},
     "output_type": "execute_result"
    }
   ],
   "source": [
    "llama_hub_path = f\"/Users/nerdai/Projects/llama-hub/llama_hub/tools\"\n",
    "llama_hub = [el for el in listdir(llama_hub_path) if el not in IGNORE_LIST]\n",
    "llama_hub = sorted(llama_hub)\n",
    "llama_hub"
   ]
  },
  {
   "cell_type": "code",
   "execution_count": 4,
   "id": "6bc284ce-51ce-4dac-874e-2afe1d495876",
   "metadata": {},
   "outputs": [
    {
     "data": {
      "text/plain": [
       "[]"
      ]
     },
     "execution_count": 4,
     "metadata": {},
     "output_type": "execute_result"
    }
   ],
   "source": [
    "common = sorted([e.replace(\".py\", \"\") for e in llama_index if e.replace(\".py\", \"\") in llama_hub])\n",
    "common"
   ]
  },
  {
   "cell_type": "markdown",
   "id": "5805b691-600a-45bc-bfb0-855c78788f6d",
   "metadata": {},
   "source": [
    "### LlamaHub \\ LlamaIndex\n",
    "\n",
    "There is no intersection, so all we need to do now is bring all LlamaHub Tools over"
   ]
  },
  {
   "cell_type": "code",
   "execution_count": 6,
   "id": "9a98e624-d312-4a23-9b07-c147427e0b4e",
   "metadata": {},
   "outputs": [
    {
     "data": {
      "text/plain": [
       "['arxiv',\n",
       " 'azure_cv',\n",
       " 'azure_speech',\n",
       " 'azure_translate',\n",
       " 'bing_search',\n",
       " 'chatgpt_plugin',\n",
       " 'code_interpreter',\n",
       " 'cogniswitch',\n",
       " 'database',\n",
       " 'gmail',\n",
       " 'google_calendar',\n",
       " 'google_search',\n",
       " 'graphql',\n",
       " 'metaphor',\n",
       " 'multion',\n",
       " 'neo4j_db',\n",
       " 'notebooks',\n",
       " 'notion',\n",
       " 'openai_image_generation',\n",
       " 'openapi',\n",
       " 'playgrounds_subgraph_connector',\n",
       " 'playgrounds_subgraph_inspector',\n",
       " 'python_file',\n",
       " 'requests',\n",
       " 'salesforce',\n",
       " 'shopify',\n",
       " 'slack',\n",
       " 'tavily_research',\n",
       " 'text_to_image',\n",
       " 'vector_db',\n",
       " 'waii',\n",
       " 'weather',\n",
       " 'wikipedia',\n",
       " 'wolfram_alpha',\n",
       " 'yelp',\n",
       " 'zapier']"
      ]
     },
     "execution_count": 6,
     "metadata": {},
     "output_type": "execute_result"
    }
   ],
   "source": [
    "extensions = [el for el in llama_hub if el not in common + [\"library.json\"]]\n",
    "extensions"
   ]
  },
  {
   "cell_type": "code",
   "execution_count": 7,
   "id": "519533a5-74d4-4195-8248-80f0fc059552",
   "metadata": {},
   "outputs": [
    {
     "data": {
      "text/plain": [
       "'/Users/nerdai/Projects/llama-hub/llama_hub/tools'"
      ]
     },
     "execution_count": 7,
     "metadata": {},
     "output_type": "execute_result"
    }
   ],
   "source": [
    "llama_hub_path"
   ]
  },
  {
   "cell_type": "code",
   "execution_count": 11,
   "id": "72c192df-a1f9-4383-b3a5-88603c1cf960",
   "metadata": {},
   "outputs": [],
   "source": [
    "from llama_index_migration_tools.main_hub import main_hub\n",
    "\n",
    "run = False\n",
    "\n",
    "handle_manually = []\n",
    "extensions_path = \"/Users/nerdai/Projects/forks/llama_index/llama-index-integrations/tools\"\n",
    "\n",
    "if run:\n",
    "    for name in extensions:\n",
    "        hub_path = f\"{llama_hub_path}/{name}\"\n",
    "        # enter the directory like this:\n",
    "        with cd(extensions_path):\n",
    "            try:\n",
    "                main_hub(integration_name=name, integration_type=\"tools\", hub_path=hub_path)\n",
    "            except FileNotFoundError as e:\n",
    "                handle_manually.append(name)"
   ]
  },
  {
   "cell_type": "code",
   "execution_count": 9,
   "id": "14bec74e-e787-470a-9581-2fdc9b5af26a",
   "metadata": {},
   "outputs": [
    {
     "data": {
      "text/plain": [
       "['openapi']"
      ]
     },
     "execution_count": 9,
     "metadata": {},
     "output_type": "execute_result"
    }
   ],
   "source": [
    "handle_manually"
   ]
  },
  {
   "cell_type": "code",
   "execution_count": null,
   "id": "5ff650fe-98ba-4112-8ae2-c8e08935876c",
   "metadata": {},
   "outputs": [],
   "source": []
  }
 ],
 "metadata": {
  "kernelspec": {
   "display_name": "migration-tools",
   "language": "python",
   "name": "migration-tools"
  },
  "language_info": {
   "codemirror_mode": {
    "name": "ipython",
    "version": 3
   },
   "file_extension": ".py",
   "mimetype": "text/x-python",
   "name": "python",
   "nbconvert_exporter": "python",
   "pygments_lexer": "ipython3",
   "version": "3.10.13"
  }
 },
 "nbformat": 4,
 "nbformat_minor": 5
}
