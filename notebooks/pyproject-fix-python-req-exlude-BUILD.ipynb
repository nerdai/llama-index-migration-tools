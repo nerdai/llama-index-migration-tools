{
 "cells": [
  {
   "cell_type": "code",
   "execution_count": 1,
   "id": "5379b36a-1367-42f6-b27f-d81a8329a9bf",
   "metadata": {},
   "outputs": [],
   "source": [
    "import os\n",
    "import json\n",
    "from os import listdir\n",
    "import toml"
   ]
  },
  {
   "cell_type": "code",
   "execution_count": 2,
   "id": "6d6643e1-cdb2-48fc-b35c-9e884d935163",
   "metadata": {},
   "outputs": [],
   "source": [
    "with open(\"/Users/nerdai/Projects/llama_index/llamaindex_registry.txt\", \"r\") as f:\n",
    "    list = f.read().split('\\n')"
   ]
  },
  {
   "cell_type": "code",
   "execution_count": 3,
   "id": "ad845801-f09b-4dce-9eae-0608cb6a658a",
   "metadata": {},
   "outputs": [],
   "source": [
    "IGNORE_LIST = [\n",
    "    \"/Users/nerdai/Projects/llama_index/llama-index-experimental\",\n",
    "    \"/Users/nerdai/Projects/llama_index/llama-index-core\",\n",
    "    \"/Users/nerdai/Projects/llama_index\",\n",
    "    \"/Users/nerdai/Projects/llama_index/llama-index-legacy\",\n",
    "    \"/Users/nerdai/Projects/llama_index/llama-index-finetuning\",\n",
    "    \"/Users/nerdai/Projects/llama_index/llama-index-cli\",\n",
    "    \"/Users/nerdai/Projects/llama_index/llama-index-core/notebooks/pack\"\n",
    "]"
   ]
  },
  {
   "cell_type": "code",
   "execution_count": 11,
   "id": "ab4ee8ed-9c1d-4db1-ba6d-354c971d88a8",
   "metadata": {},
   "outputs": [],
   "source": [
    "PYTHON_DEPENDENCY_REQ = '>=3.8.1,4.0'"
   ]
  },
  {
   "cell_type": "code",
   "execution_count": 4,
   "id": "80a26495-a94c-494e-bac6-e0ad148b1ac4",
   "metadata": {},
   "outputs": [],
   "source": [
    "for package in list[:5]:\n",
    "    if not package:\n",
    "        continue\n",
    "    if package in IGNORE_LIST:\n",
    "        continue\n",
    "    toml_path = os.path.join(package, \"pyproject.toml\")\n",
    "    pyproject = toml.load(toml_path)\n",
    "    if \"class_authors\" not in pyproject['tool']['llamahub']:\n",
    "        print(f\"Missing class_authors in {package}\\n\")"
   ]
  },
  {
   "cell_type": "code",
   "execution_count": 7,
   "id": "a996a451-d969-40a9-b57c-f7686d382496",
   "metadata": {},
   "outputs": [],
   "source": [
    "package = list[5]\n",
    "toml_path = os.path.join(package, \"pyproject.toml\")\n",
    "pyproject = toml.load(toml_path)"
   ]
  },
  {
   "cell_type": "code",
   "execution_count": 14,
   "id": "6de277e8-b087-45d1-93ac-c5fcfc620488",
   "metadata": {},
   "outputs": [],
   "source": [
    "# update python req\n",
    "pyproject['tool']['poetry']['dependencies']['python'] = PYTHON_DEPENDENCY_REQ"
   ]
  },
  {
   "cell_type": "code",
   "execution_count": 13,
   "id": "9c266417-88af-4017-b283-d8f4e49df423",
   "metadata": {},
   "outputs": [],
   "source": [
    "# add exclusion of BUILD\n",
    "if \"exclude\" in pyproject['tool']['poetry']:\n",
    "    pyproject['tool']['poetry']['exclude'] += [\"**/BUILD\"]\n",
    "else:\n",
    "    pyproject['tool']['poetry']['exclude'] = [\"**/BUILD\"]"
   ]
  },
  {
   "cell_type": "code",
   "execution_count": 15,
   "id": "6e0d1b83-009a-4c5c-86b0-3c49f3e59622",
   "metadata": {},
   "outputs": [
    {
     "data": {
      "text/plain": [
       "{'build-system': {'build-backend': 'poetry.core.masonry.api',\n",
       "  'requires': ['poetry-core']},\n",
       " 'tool': {'codespell': {'check-filenames': True,\n",
       "   'check-hidden': True,\n",
       "   'skip': '*.csv,*.html,*.json,*.jsonl,*.pdf,*.txt,*.ipynb'},\n",
       "  'llamahub': {'contains_example': False,\n",
       "   'import_path': 'llama_index.packs.zephyr_query_engine',\n",
       "   'class_authors': {'ZephyrQueryEnginePack': 'logan-markewich'}},\n",
       "  'mypy': {'disallow_untyped_defs': True,\n",
       "   'exclude': ['_static', 'build', 'examples', 'notebooks', 'venv'],\n",
       "   'ignore_missing_imports': True,\n",
       "   'python_version': '3.8'},\n",
       "  'poetry': {'authors': ['Your Name <you@example.com>'],\n",
       "   'description': 'llama-index packs zephyr_query_engine integration',\n",
       "   'keywords': ['engine', 'huggingface', 'index', 'local', 'query', 'zephyr'],\n",
       "   'license': 'MIT',\n",
       "   'maintainers': ['logan-markewich'],\n",
       "   'name': 'llama-index-packs-zephyr-query-engine',\n",
       "   'readme': 'README.md',\n",
       "   'version': '0.1.1',\n",
       "   'dependencies': {'python': '>=3.8.1,4.0',\n",
       "    'llama-index-core': '^0.10.1',\n",
       "    'torch': '^2.1.2',\n",
       "    'transformers': '^4.37.1',\n",
       "    'accelerate': '^0.26.1',\n",
       "    'bitsandbytes': '^0.42.0',\n",
       "    'llama-index-llms-huggingface': '^0.1.1'},\n",
       "   'group': {'dev': {'dependencies': {'ipython': '8.10.0',\n",
       "      'jupyter': '^1.0.0',\n",
       "      'mypy': '0.991',\n",
       "      'pre-commit': '3.2.0',\n",
       "      'pylint': '2.15.10',\n",
       "      'pytest': '7.2.1',\n",
       "      'pytest-mock': '3.11.1',\n",
       "      'ruff': '0.0.292',\n",
       "      'tree-sitter-languages': '^1.8.0',\n",
       "      'types-Deprecated': '>=0.1.0',\n",
       "      'types-PyYAML': '^6.0.12.12',\n",
       "      'types-protobuf': '^4.24.0.4',\n",
       "      'types-redis': '4.5.5.0',\n",
       "      'types-requests': '2.28.11.8',\n",
       "      'types-setuptools': '67.1.0.0',\n",
       "      'black': {'extras': ['jupyter'], 'version': '<=23.9.1,>=23.7.0'},\n",
       "      'codespell': {'extras': ['toml'], 'version': '>=v2.2.6'}}}},\n",
       "   'packages': [{'include': 'llama_index/'}],\n",
       "   'exclude': ['**/BUILD']}}}"
      ]
     },
     "execution_count": 15,
     "metadata": {},
     "output_type": "execute_result"
    }
   ],
   "source": [
    "pyproject"
   ]
  },
  {
   "cell_type": "code",
   "execution_count": null,
   "id": "89fdd630-77ec-4380-9249-87c23a9b832b",
   "metadata": {},
   "outputs": [],
   "source": []
  }
 ],
 "metadata": {
  "kernelspec": {
   "display_name": "migration-tools",
   "language": "python",
   "name": "migration-tools"
  },
  "language_info": {
   "codemirror_mode": {
    "name": "ipython",
    "version": 3
   },
   "file_extension": ".py",
   "mimetype": "text/x-python",
   "name": "python",
   "nbconvert_exporter": "python",
   "pygments_lexer": "ipython3",
   "version": "3.10.13"
  }
 },
 "nbformat": 4,
 "nbformat_minor": 5
}
